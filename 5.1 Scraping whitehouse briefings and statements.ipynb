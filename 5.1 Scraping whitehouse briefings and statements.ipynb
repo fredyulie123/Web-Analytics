{
 "cells": [
  {
   "cell_type": "markdown",
   "metadata": {},
   "source": [
    "# Scraping whitehouse links\n",
    "\n",
    "This notebook details how we can scrape whitehouse statement text, types, and links, with details.\n",
    "\n",
    "As always, we will begin by importing our libraries"
   ]
  },
  {
   "cell_type": "code",
   "execution_count": 1,
   "metadata": {},
   "outputs": [],
   "source": [
    "# 1. importing useful libraries\n",
    "\n",
    "import requests # to get the website\n",
    "import time     # to force our code to wait a little before re-trying to grab a webpage\n",
    "import re       # to grab the exact element we need\n",
    "from bs4 import BeautifulSoup # to grab the html elements we need"
   ]
  },
  {
   "cell_type": "markdown",
   "metadata": {},
   "source": [
    "Now let's create \n",
    "- data: an empty list, where we will be appending our content\n",
    "- headers: a dictioanry that tells our requests as what kind of browser we are requesting the webpage"
   ]
  },
  {
   "cell_type": "code",
   "execution_count": 2,
   "metadata": {},
   "outputs": [],
   "source": [
    "# create an empty list\n",
    "data  = [] \n",
    "# access the webpage as Chrome\n",
    "my_headers = { 'User-Agent': 'Mozilla/5.0 (Windows NT 6.1) AppleWebKit/537.36 (KHTML, like Gecko) Chrome/41.0.2228.0 Safari/537.36'}"
   ]
  },
  {
   "cell_type": "markdown",
   "metadata": {},
   "source": [
    "## 1. Get the page\n",
    "\n",
    "First, we will try to get the page five times:\n",
    "- if we are unsuccessfuly, requests.get will thrown an error, and we we print that we failed to get the page\n",
    "- if we are successful, we will break the loop\n",
    "\n",
    "At then end, we will tell the user whether we got the page or not\n",
    "- try to get a page that does not exist, e.g. https://www.whitsadsadasdasdehouse.gov/briefings-statements/page/1/' and see what happens!"
   ]
  },
  {
   "cell_type": "code",
   "execution_count": 3,
   "metadata": {},
   "outputs": [
    {
     "name": "stdout",
     "output_type": "stream",
     "text": [
      "Successfully got page:  https://www.whitehouse.gov/briefings-statements/page/1/\n"
     ]
    }
   ],
   "source": [
    "# Give the url of the page\n",
    "page = 'https://www.whitehouse.gov/briefings-statements/page/1/' \n",
    "# Initialize src to be False\n",
    "src  = False\n",
    "\n",
    "# Now get the page\n",
    "\n",
    "# try to scrape 5 times\n",
    "for i in range(1,6): \n",
    "    try:\n",
    "        # get url content\n",
    "        response = requests.get(page, headers = my_headers)\n",
    "        # get the html content\n",
    "        src = response.content\n",
    "        # if we successuflly got the file, break the loop\n",
    "        break \n",
    "    # if requests.get() threw an exception, i.e., the attempt to get the response failed\n",
    "    except:\n",
    "        print ('failed attempt #',i)\n",
    "        # wait 2 secs before trying again\n",
    "        time.sleep(2)\n",
    "\n",
    "# if we could not get the page \n",
    "if not src:\n",
    "   # couldnt get the page, print that we could not and continue to the next attempt\n",
    "   print('Could not get page: ', page)\n",
    "else:\n",
    "   # got the page, let the user know\n",
    "   print('Successfully got page: ', page)"
   ]
  },
  {
   "cell_type": "markdown",
   "metadata": {},
   "source": [
    "## 2. Find where the information is contained by using \"inspect\"\n",
    "\n",
    "We now will need to get, for each statement, the information on the statement type, link text, and link address.\n",
    "\n",
    "For example, see below\n",
    "\n",
    "<font color='red'>These pictures were taken on 10/10/2019 9:00AM.\n",
    "\n",
    "As the whitehouse continuously releases statements, your results will vary, and will simply pick up the last statement instead</font>\n",
    "\n",
    "<br>\n",
    "\n",
    "<img src=\"http://drive.google.com/uc?export=view&id=1DvcN_BhQCS_zD_E2mXZdncsdbhWi9jti\"  width=\"600\">\n",
    "\n",
    "<br>"
   ]
  },
  {
   "cell_type": "markdown",
   "metadata": {},
   "source": [
    "The fastest way to scrape is through the \"inspect\" function on your browser\n",
    "- Right click anywhere on the page, then click inspect (step 0)\n",
    "- Click on select an element to inspect it (step 1)\n",
    "- Hover your mouse over the page until you find your element, or click to focus on that one (step 2)\n",
    "- See the HTML code where your information is contained\n",
    "\n",
    "These steps are shown below to find the html tag in which the statement type for the first statement (\"STATEMENTS & RELEASES\") is contained can be found below\n",
    "\n",
    "<br>\n",
    "\n",
    "<img src=\"http://drive.google.com/uc?export=view&id=11YLb6ojElT-6U4WcDprqTpwUuRqDTB1v\" width=\"600\">\n",
    "\n",
    "<br>\n",
    "\n",
    "Similarly, the steps to find where the html element where the link text, and the link url are contained, are shown below\n",
    "\n",
    "<br>\n",
    "<img src=\"http://drive.google.com/uc?export=view&id=1NHGdgfdMXNA0PwdCZA2SizxKfHMXYoLm\" width=\"600\">\n",
    "<br>"
   ]
  },
  {
   "cell_type": "markdown",
   "metadata": {},
   "source": [
    "## 3. Use beautiful soup to parse the information\n",
    "\n",
    "We will next use the powerful functionality of beautiful soup to parse the information that we need.\n",
    "\n",
    "First, we will turn our html to a beautiful object item. "
   ]
  },
  {
   "cell_type": "code",
   "execution_count": 4,
   "metadata": {},
   "outputs": [],
   "source": [
    "# 1. decode('ascii', 'ignore') will turn weird characters to more easy-to-work-with characters in our html file\n",
    "# 2. 'lxml' tells the beautiful soup library what kind of data the src variable contains (an html page)\n",
    "\n",
    "soup = BeautifulSoup(src.decode('ascii', 'ignore'), 'lxml')"
   ]
  },
  {
   "cell_type": "markdown",
   "metadata": {},
   "source": [
    "Next, we need to find what is the tag that \"contains\" the information we want. \n",
    "\n",
    "Inspecting the HTML we find that the tag \"article\" with an attribute of type class and value \"briefing-statement brifing-statement--results\" contains both tags we want to parse: \n",
    "1. the h2 tag with with an attribute of type class and type  \"briefing-statement__type\" \n",
    "2. the a tag with with an attribute of type class and type \"briefing-statement__title\"\n",
    "\n",
    "By saying \"contain\" we mean that this information is found after the article tag opens, and before it closes.\n",
    "This is easy to see in the \"inspect view\" because everything that an element contains, has more indent than that element!!\n",
    "\n",
    "See for example below:\n",
    "\n",
    "<br>\n",
    "<img src=\"http://drive.google.com/uc?export=view&id=1PK1_UjH3a-VoPw6JHBODhHYm-83gjEZl\" width=\"600\">\n",
    "<br>\n",
    "\n",
    "To find all article tags, we simply ask Beautiful Soup to look for this tag in the \"soup\" variable---that contains the HTML"
   ]
  },
  {
   "cell_type": "code",
   "execution_count": 5,
   "metadata": {},
   "outputs": [],
   "source": [
    "articles = soup.findAll('article')"
   ]
  },
  {
   "cell_type": "markdown",
   "metadata": {},
   "source": [
    "Now verify that the first element of the articles list contains an article."
   ]
  },
  {
   "cell_type": "code",
   "execution_count": 6,
   "metadata": {
    "scrolled": true
   },
   "outputs": [
    {
     "data": {
      "text/plain": [
       "<article class=\"briefing-statement briefing-statement--results\">\n",
       "<div class=\"briefing-statement__content\">\n",
       "<p class=\"briefing-statement__type\">\n",
       "\t\t\t\tRemarks\t\t\t</p>\n",
       "<h2 class=\"briefing-statement__title\"><a href=\"https://www.whitehouse.gov/briefings-statements/remarks-president-trump-international-association-chiefs-police-annual-conference-exposition-chicago-il/\">Remarks by President Trump at the International Association of Chiefs of Police Annual Conference and Exposition | Chicago, IL</a></h2>\n",
       "<div class=\"meta meta--left\">\n",
       "<div class=\"meta__issue\">\n",
       "<p class=\"issue-flag issue-flag--left\">\n",
       "<a href=\"https://www.whitehouse.gov/issues/law-justice/\">\n",
       "\t\t\tLaw &amp; Justice\t\t</a>\n",
       "</p>\n",
       "</div>\n",
       "<p class=\"meta__date\">\n",
       "<time>Oct 28, 2019</time>\n",
       "</p>\n",
       "</div>\n",
       "</div>\n",
       "</article>"
      ]
     },
     "execution_count": 6,
     "metadata": {},
     "output_type": "execute_result"
    }
   ],
   "source": [
    "articles[0]"
   ]
  },
  {
   "cell_type": "markdown",
   "metadata": {},
   "source": [
    "You can take a look at the attributes of that html tag, and veryify that they are the tags that we want"
   ]
  },
  {
   "cell_type": "code",
   "execution_count": 7,
   "metadata": {},
   "outputs": [
    {
     "data": {
      "text/plain": [
       "{'class': ['briefing-statement', 'briefing-statement--results']}"
      ]
     },
     "execution_count": 7,
     "metadata": {},
     "output_type": "execute_result"
    }
   ],
   "source": [
    "articles[0].attrs"
   ]
  },
  {
   "cell_type": "markdown",
   "metadata": {},
   "source": [
    "As articles may be used for other kind of information, we would like to keep only the articles with the right attributes. The way to do this is by telling Beautiful Soup to only keep the articles who are briefing statements, which is done as below:"
   ]
  },
  {
   "cell_type": "code",
   "execution_count": 8,
   "metadata": {},
   "outputs": [
    {
     "data": {
      "text/plain": [
       "10"
      ]
     },
     "execution_count": 8,
     "metadata": {},
     "output_type": "execute_result"
    }
   ],
   "source": [
    "# keep only <article> tags whose class containts the \"briefing-statement\" substring\n",
    "articles = soup.findAll('article', {'class':re.compile('briefing-statement')})\n",
    "len(articles)"
   ]
  },
  {
   "cell_type": "markdown",
   "metadata": {},
   "source": [
    "Alright, now that we have all articles, let's grab the correct information for each article.\n",
    "We need to grab two kinds of information:\n",
    "    \n",
    "- the text that is contained within the **p** tag with attribute \"class\" of value \"briefing-statement__type\"\n",
    "- (i) the value of the \"href\" attribute and (ii) the text of the **a** tag _that is contained_ within the **h2** tag with attribute \"class\" of value \"briefing-statement__title\"\n",
    "\n",
    "Let's first do this with the first article, and then do it for every article using a for loop"
   ]
  },
  {
   "cell_type": "code",
   "execution_count": 9,
   "metadata": {},
   "outputs": [
    {
     "data": {
      "text/plain": [
       "<article class=\"briefing-statement briefing-statement--results\">\n",
       "<div class=\"briefing-statement__content\">\n",
       "<p class=\"briefing-statement__type\">\n",
       "\t\t\t\tRemarks\t\t\t</p>\n",
       "<h2 class=\"briefing-statement__title\"><a href=\"https://www.whitehouse.gov/briefings-statements/remarks-president-trump-international-association-chiefs-police-annual-conference-exposition-chicago-il/\">Remarks by President Trump at the International Association of Chiefs of Police Annual Conference and Exposition | Chicago, IL</a></h2>\n",
       "<div class=\"meta meta--left\">\n",
       "<div class=\"meta__issue\">\n",
       "<p class=\"issue-flag issue-flag--left\">\n",
       "<a href=\"https://www.whitehouse.gov/issues/law-justice/\">\n",
       "\t\t\tLaw &amp; Justice\t\t</a>\n",
       "</p>\n",
       "</div>\n",
       "<p class=\"meta__date\">\n",
       "<time>Oct 28, 2019</time>\n",
       "</p>\n",
       "</div>\n",
       "</div>\n",
       "</article>"
      ]
     },
     "execution_count": 9,
     "metadata": {},
     "output_type": "execute_result"
    }
   ],
   "source": [
    "article = articles[0]\n",
    "article"
   ]
  },
  {
   "cell_type": "code",
   "execution_count": 10,
   "metadata": {},
   "outputs": [
    {
     "data": {
      "text/plain": [
       "<p class=\"briefing-statement__type\">\n",
       "\t\t\t\tRemarks\t\t\t</p>"
      ]
     },
     "execution_count": 10,
     "metadata": {},
     "output_type": "execute_result"
    }
   ],
   "source": [
    "# first grab the <p> tag and everythign it contains from the first article\n",
    "# to do so, simply use beautiful soups \"find\" functionality \n",
    "# (because there is only one, it will return the first occurence)\n",
    "\n",
    "p = article.find('p')\n",
    "p\n",
    "\n"
   ]
  },
  {
   "cell_type": "code",
   "execution_count": 11,
   "metadata": {},
   "outputs": [
    {
     "data": {
      "text/plain": [
       "'\\n\\t\\t\\t\\tRemarks\\t\\t\\t'"
      ]
     },
     "execution_count": 11,
     "metadata": {},
     "output_type": "execute_result"
    }
   ],
   "source": [
    "# grab the text from the h2 article simply using the .text function of beautiful soup\n",
    "article_type = p.text\n",
    "article_type"
   ]
  },
  {
   "cell_type": "code",
   "execution_count": 12,
   "metadata": {},
   "outputs": [],
   "source": [
    "# strip the text from unecessary whitespace, by using .strip() method of Python strings\n",
    "article_type = article_type.strip()"
   ]
  },
  {
   "cell_type": "code",
   "execution_count": 13,
   "metadata": {},
   "outputs": [
    {
     "data": {
      "text/plain": [
       "'Remarks'"
      ]
     },
     "execution_count": 13,
     "metadata": {},
     "output_type": "execute_result"
    }
   ],
   "source": [
    "article_type"
   ]
  },
  {
   "cell_type": "markdown",
   "metadata": {},
   "source": [
    "Finding the **a** tag url and text is slightly more tricky because we note that there are multiple **a** tags within the **article** tag that we grabbed. \n",
    "\n",
    "To find the right one, we simply need to note that this article is contained within the **h2** tag, and that there is only one **h2** tag in the **article** tag.\n",
    "\n",
    "<br>\n",
    "<img src=\"http://drive.google.com/uc?export=view&id=1PK1_UjH3a-VoPw6JHBODhHYm-83gjEZl\" width=\"600\">\n",
    "<br>\n",
    "\n",
    "As such, we need to perform two searches"
   ]
  },
  {
   "cell_type": "code",
   "execution_count": 15,
   "metadata": {},
   "outputs": [
    {
     "data": {
      "text/plain": [
       "<a href=\"https://www.whitehouse.gov/briefings-statements/text-letter-counsel-vice-president-chairman-cummings-chairman-engel-chairman-schiff/\">Text of a Letter from the Counsel to the Vice President to Chairman Cummings, Chairman Engel and Chairman Schiff</a>"
      ]
     },
     "execution_count": 15,
     "metadata": {},
     "output_type": "execute_result"
    }
   ],
   "source": [
    "# find h2 within article\n",
    "h2 = article.find('h2')\n",
    "\n",
    "# find a tag within h2\n",
    "a  = h2.find('a')\n",
    "\n",
    "a"
   ]
  },
  {
   "cell_type": "code",
   "execution_count": 16,
   "metadata": {},
   "outputs": [],
   "source": [
    "# get the url\n",
    "article_url  = a.attrs['href']\n",
    "article_text = a.text.strip()"
   ]
  },
  {
   "cell_type": "code",
   "execution_count": 17,
   "metadata": {
    "scrolled": true
   },
   "outputs": [
    {
     "name": "stdout",
     "output_type": "stream",
     "text": [
      "type  = Statements & Releases\n",
      "url   = https://www.whitehouse.gov/briefings-statements/text-letter-counsel-vice-president-chairman-cummings-chairman-engel-chairman-schiff/\n",
      "text  = Text of a Letter from the Counsel to the Vice President to Chairman Cummings, Chairman Engel and Chairman Schiff\n"
     ]
    }
   ],
   "source": [
    "print('type  = '+ article_type)\n",
    "print('url   = '+ article_url)\n",
    "print('text  = '+ article_text)\n"
   ]
  },
  {
   "cell_type": "markdown",
   "metadata": {},
   "source": [
    "### Et voila!!!\n",
    "<br><br><br>\n",
    "\n",
    "\n",
    "# 4. Scraping all articles in webpage\n",
    "Now to scrape all articles from the webpage, simply use a for loop!"
   ]
  },
  {
   "cell_type": "code",
   "execution_count": 18,
   "metadata": {},
   "outputs": [
    {
     "name": "stdout",
     "output_type": "stream",
     "text": [
      "['Statements & Releases', 'https://www.whitehouse.gov/briefings-statements/text-letter-counsel-vice-president-chairman-cummings-chairman-engel-chairman-schiff/', 'Text of a Letter from the Counsel to the Vice President to Chairman Cummings, Chairman Engel and Chairman Schiff']\n",
      "['Remarks', 'https://www.whitehouse.gov/briefings-statements/remarks-president-trump-welcoming-2019-stanley-cup-champions-st-louis-blues/', 'Remarks by President Trump Welcoming the 2019 Stanley Cup Champions, St. Louis Blues']\n",
      "['Statements & Releases', 'https://www.whitehouse.gov/briefings-statements/text-message-congress-continuation-national-emergency-respect-significant-narcotics-traffickers-centered-colombia/', 'Text of a Message to the Congresson the Continuation of the National Emergency with Respect to Significant Narcotics Traffickers Centered in Colombia']\n",
      "['Statements & Releases', 'https://www.whitehouse.gov/briefings-statements/text-notice-continuation-national-emergency-respect-significant-narcotics-traffickers-centered-colombia-2/', 'Text of a Notice on the Continuation of the National Emergency with Respect to Significant Narcotics Traffickers Centered in Colombia']\n",
      "['Statements & Releases', 'https://www.whitehouse.gov/briefings-statements/readout-vice-president-mike-pences-meeting-prime-minister-arab-republic-egypt/', 'Readout of Vice President Mike Pences Meeting with the Prime Minister of the Arab Republic of Egypt']\n",
      "['Statements & Releases', 'https://www.whitehouse.gov/briefings-statements/president-donald-j-trump-announces-presidential-excellence-awards-science-mathematics-engineering/', 'President Donald J. Trump Announces Presidential Excellence Awards in Science, Mathematics, and Engineering']\n",
      "['Statements & Releases', 'https://www.whitehouse.gov/briefings-statements/text-letter-speaker-house-representatives-president-senate-13/', 'Text of a Letter to the Speaker of the House of Representatives and the President of the Senate']\n",
      "['Statements & Releases', 'https://www.whitehouse.gov/briefings-statements/statement-president-donald-j-trump-regarding-turkeys-actions-northeast-syria/', 'Statement from President Donald J. Trump Regarding Turkeys Actions in Northeast Syria']\n",
      "['Remarks', 'https://www.whitehouse.gov/briefings-statements/remarks-president-trump-values-voter-summit/', 'Remarks by President Trump at Values Voter Summit']\n",
      "['Statements & Releases', 'https://www.whitehouse.gov/briefings-statements/presidential-message-244th-birthday-united-states-navy/', 'Presidential Message on the 244th Birthday of the United States Navy']\n"
     ]
    }
   ],
   "source": [
    "data = []\n",
    "\n",
    "articles = soup.findAll('article', {'class':re.compile('briefing-statement')})\n",
    "\n",
    "for article in articles:\n",
    "    \n",
    "    # find p, grab text, strip() it\n",
    "    p = article.find('p')\n",
    "    article_type = p.text.strip()\n",
    "    \n",
    "    # find h2, find a, grab a's url and text\n",
    "    h2 = article.find('h2')\n",
    "    a  = h2.find('a')\n",
    "    article_url  = a.attrs['href']\n",
    "    article_text = a.text.strip()\n",
    "    \n",
    "    # add all the info to the data link\n",
    "    data.append([article_type, article_url, article_text])\n",
    "\n",
    "for article in data:\n",
    "    print(article)"
   ]
  },
  {
   "cell_type": "markdown",
   "metadata": {},
   "source": [
    "# 5. Scraping all articles in webpage with failsafes\n",
    "\n",
    "I show you below how to deal unfound elements\n"
   ]
  },
  {
   "cell_type": "code",
   "execution_count": 19,
   "metadata": {},
   "outputs": [
    {
     "name": "stdout",
     "output_type": "stream",
     "text": [
      "['Statements & Releases', 'https://www.whitehouse.gov/briefings-statements/text-letter-counsel-vice-president-chairman-cummings-chairman-engel-chairman-schiff/', 'Text of a Letter from the Counsel to the Vice President to Chairman Cummings, Chairman Engel and Chairman Schiff']\n",
      "['Remarks', 'https://www.whitehouse.gov/briefings-statements/remarks-president-trump-welcoming-2019-stanley-cup-champions-st-louis-blues/', 'Remarks by President Trump Welcoming the 2019 Stanley Cup Champions, St. Louis Blues']\n",
      "['Statements & Releases', 'https://www.whitehouse.gov/briefings-statements/text-message-congress-continuation-national-emergency-respect-significant-narcotics-traffickers-centered-colombia/', 'Text of a Message to the Congresson the Continuation of the National Emergency with Respect to Significant Narcotics Traffickers Centered in Colombia']\n",
      "['Statements & Releases', 'https://www.whitehouse.gov/briefings-statements/text-notice-continuation-national-emergency-respect-significant-narcotics-traffickers-centered-colombia-2/', 'Text of a Notice on the Continuation of the National Emergency with Respect to Significant Narcotics Traffickers Centered in Colombia']\n",
      "['Statements & Releases', 'https://www.whitehouse.gov/briefings-statements/readout-vice-president-mike-pences-meeting-prime-minister-arab-republic-egypt/', 'Readout of Vice President Mike Pences Meeting with the Prime Minister of the Arab Republic of Egypt']\n",
      "['Statements & Releases', 'https://www.whitehouse.gov/briefings-statements/president-donald-j-trump-announces-presidential-excellence-awards-science-mathematics-engineering/', 'President Donald J. Trump Announces Presidential Excellence Awards in Science, Mathematics, and Engineering']\n",
      "['Statements & Releases', 'https://www.whitehouse.gov/briefings-statements/text-letter-speaker-house-representatives-president-senate-13/', 'Text of a Letter to the Speaker of the House of Representatives and the President of the Senate']\n",
      "['Statements & Releases', 'https://www.whitehouse.gov/briefings-statements/statement-president-donald-j-trump-regarding-turkeys-actions-northeast-syria/', 'Statement from President Donald J. Trump Regarding Turkeys Actions in Northeast Syria']\n",
      "['Remarks', 'https://www.whitehouse.gov/briefings-statements/remarks-president-trump-values-voter-summit/', 'Remarks by President Trump at Values Voter Summit']\n",
      "['Statements & Releases', 'https://www.whitehouse.gov/briefings-statements/presidential-message-244th-birthday-united-states-navy/', 'Presidential Message on the 244th Birthday of the United States Navy']\n"
     ]
    }
   ],
   "source": [
    "data = []\n",
    "\n",
    "articles = soup.findAll('article', {'class':re.compile('briefing-statement')})\n",
    "\n",
    "for article in articles:\n",
    "    \n",
    "    # initialize to not found\n",
    "    article_type = 'NA'\n",
    "    article_url  = 'NA'\n",
    "    article_text = 'NA'\n",
    "    \n",
    "    # find p, grab text, strip() it\n",
    "    p = article.find('p')\n",
    "    \n",
    "    # if you found it\n",
    "    if p:\n",
    "        article_type = p.text.strip()\n",
    "    \n",
    "    # find h2, find a, grab a's url and text\n",
    "    h2 = article.find('h2')\n",
    "    a  = h2.find('a')\n",
    "    \n",
    "    # if you found it\n",
    "    if a:\n",
    "        article_url  = a.attrs['href']\n",
    "        article_text = a.text.strip()\n",
    "    \n",
    "    # add all the info to the data link\n",
    "    # if some element hasn't been found, the 'NA' string will be added\n",
    "    data.append([article_type, article_url, article_text])\n",
    "\n",
    "for article in data:\n",
    "    print(article)"
   ]
  },
  {
   "cell_type": "code",
   "execution_count": null,
   "metadata": {},
   "outputs": [],
   "source": []
  },
  {
   "cell_type": "markdown",
   "metadata": {},
   "source": [
    "# 6. Scraping many pages!\n",
    "\n",
    "To scrape many pages, we simply add a for loop to everything...\n",
    "\n",
    "\n"
   ]
  },
  {
   "cell_type": "code",
   "execution_count": 20,
   "metadata": {
    "scrolled": true
   },
   "outputs": [
    {
     "name": "stdout",
     "output_type": "stream",
     "text": [
      "Successfully got page:  https://www.whitehouse.gov/briefings-statements/page/1/\n",
      "Successfully got page:  https://www.whitehouse.gov/briefings-statements/page/2/\n",
      "Successfully got page:  https://www.whitehouse.gov/briefings-statements/page/3/\n",
      "Successfully got page:  https://www.whitehouse.gov/briefings-statements/page/4/\n",
      "Successfully got page:  https://www.whitehouse.gov/briefings-statements/page/5/\n"
     ]
    }
   ],
   "source": [
    "data = []\n",
    "numPages = 5\n",
    "\n",
    "for k in range(1,numPages+1):\n",
    "    \n",
    "    # Give the url of the page\n",
    "    page = 'https://www.whitehouse.gov/briefings-statements/page/'+str(k)+'/' \n",
    "    # Initialize src to be False\n",
    "    src  = False\n",
    "\n",
    "    # Now get the page\n",
    "\n",
    "    # try to scrape 5 times\n",
    "    for i in range(1,6): \n",
    "        try:\n",
    "            # get url content\n",
    "            response = requests.get(page, headers = my_headers)\n",
    "            # get the html content\n",
    "            src = response.content\n",
    "            # if we successuflly got the file, break the loop\n",
    "            break \n",
    "        # if requests.get() threw an exception, i.e., the attempt to get the response failed\n",
    "        except:\n",
    "            print ('failed attempt #',i)\n",
    "            # wait 2 secs before trying again\n",
    "            time.sleep(2)\n",
    "\n",
    "    # if we could not get the page \n",
    "    if not src:\n",
    "       # couldnt get the page, print that we could not and continue to the next attempt\n",
    "       print('Could not get page: ', page)\n",
    "       # move on to the next page\n",
    "       continue \n",
    "    else:\n",
    "       # got the page, let the user know\n",
    "       print('Successfully got page: ', page)\n",
    "    \n",
    "\n",
    "    articles = soup.findAll('article', {'class':re.compile('briefing-statement')})\n",
    "\n",
    "    for article in articles:\n",
    "\n",
    "        # initialize to not found\n",
    "        article_type = 'NA'\n",
    "        article_url  = 'NA'\n",
    "        article_text = 'NA'\n",
    "\n",
    "        # find p, grab text, strip() it\n",
    "        p = article.find('p')\n",
    "\n",
    "        # if you found it\n",
    "        if p:\n",
    "            article_type = p.text.strip()\n",
    "\n",
    "        # find h2, find a, grab a's url and text\n",
    "        h2 = article.find('h2')\n",
    "        a  = h2.find('a')\n",
    "\n",
    "        # if you found it\n",
    "        if a:\n",
    "            article_url  = a.attrs['href']\n",
    "            article_text = a.text.strip()\n",
    "\n",
    "        # add all the info to the data link\n",
    "        # if some element hasn't been found, the 'NA' string will be added\n",
    "        data.append([article_type, article_url, article_text])"
   ]
  },
  {
   "cell_type": "code",
   "execution_count": 21,
   "metadata": {},
   "outputs": [
    {
     "name": "stdout",
     "output_type": "stream",
     "text": [
      "['Statements & Releases', 'https://www.whitehouse.gov/briefings-statements/text-letter-counsel-vice-president-chairman-cummings-chairman-engel-chairman-schiff/', 'Text of a Letter from the Counsel to the Vice President to Chairman Cummings, Chairman Engel and Chairman Schiff']\n",
      "['Remarks', 'https://www.whitehouse.gov/briefings-statements/remarks-president-trump-welcoming-2019-stanley-cup-champions-st-louis-blues/', 'Remarks by President Trump Welcoming the 2019 Stanley Cup Champions, St. Louis Blues']\n",
      "['Statements & Releases', 'https://www.whitehouse.gov/briefings-statements/text-message-congress-continuation-national-emergency-respect-significant-narcotics-traffickers-centered-colombia/', 'Text of a Message to the Congresson the Continuation of the National Emergency with Respect to Significant Narcotics Traffickers Centered in Colombia']\n",
      "['Statements & Releases', 'https://www.whitehouse.gov/briefings-statements/text-notice-continuation-national-emergency-respect-significant-narcotics-traffickers-centered-colombia-2/', 'Text of a Notice on the Continuation of the National Emergency with Respect to Significant Narcotics Traffickers Centered in Colombia']\n",
      "['Statements & Releases', 'https://www.whitehouse.gov/briefings-statements/readout-vice-president-mike-pences-meeting-prime-minister-arab-republic-egypt/', 'Readout of Vice President Mike Pences Meeting with the Prime Minister of the Arab Republic of Egypt']\n",
      "['Statements & Releases', 'https://www.whitehouse.gov/briefings-statements/president-donald-j-trump-announces-presidential-excellence-awards-science-mathematics-engineering/', 'President Donald J. Trump Announces Presidential Excellence Awards in Science, Mathematics, and Engineering']\n",
      "['Statements & Releases', 'https://www.whitehouse.gov/briefings-statements/text-letter-speaker-house-representatives-president-senate-13/', 'Text of a Letter to the Speaker of the House of Representatives and the President of the Senate']\n",
      "['Statements & Releases', 'https://www.whitehouse.gov/briefings-statements/statement-president-donald-j-trump-regarding-turkeys-actions-northeast-syria/', 'Statement from President Donald J. Trump Regarding Turkeys Actions in Northeast Syria']\n",
      "['Remarks', 'https://www.whitehouse.gov/briefings-statements/remarks-president-trump-values-voter-summit/', 'Remarks by President Trump at Values Voter Summit']\n",
      "['Statements & Releases', 'https://www.whitehouse.gov/briefings-statements/presidential-message-244th-birthday-united-states-navy/', 'Presidential Message on the 244th Birthday of the United States Navy']\n",
      "['Statements & Releases', 'https://www.whitehouse.gov/briefings-statements/text-letter-counsel-vice-president-chairman-cummings-chairman-engel-chairman-schiff/', 'Text of a Letter from the Counsel to the Vice President to Chairman Cummings, Chairman Engel and Chairman Schiff']\n",
      "['Remarks', 'https://www.whitehouse.gov/briefings-statements/remarks-president-trump-welcoming-2019-stanley-cup-champions-st-louis-blues/', 'Remarks by President Trump Welcoming the 2019 Stanley Cup Champions, St. Louis Blues']\n",
      "['Statements & Releases', 'https://www.whitehouse.gov/briefings-statements/text-message-congress-continuation-national-emergency-respect-significant-narcotics-traffickers-centered-colombia/', 'Text of a Message to the Congresson the Continuation of the National Emergency with Respect to Significant Narcotics Traffickers Centered in Colombia']\n",
      "['Statements & Releases', 'https://www.whitehouse.gov/briefings-statements/text-notice-continuation-national-emergency-respect-significant-narcotics-traffickers-centered-colombia-2/', 'Text of a Notice on the Continuation of the National Emergency with Respect to Significant Narcotics Traffickers Centered in Colombia']\n",
      "['Statements & Releases', 'https://www.whitehouse.gov/briefings-statements/readout-vice-president-mike-pences-meeting-prime-minister-arab-republic-egypt/', 'Readout of Vice President Mike Pences Meeting with the Prime Minister of the Arab Republic of Egypt']\n",
      "['Statements & Releases', 'https://www.whitehouse.gov/briefings-statements/president-donald-j-trump-announces-presidential-excellence-awards-science-mathematics-engineering/', 'President Donald J. Trump Announces Presidential Excellence Awards in Science, Mathematics, and Engineering']\n",
      "['Statements & Releases', 'https://www.whitehouse.gov/briefings-statements/text-letter-speaker-house-representatives-president-senate-13/', 'Text of a Letter to the Speaker of the House of Representatives and the President of the Senate']\n",
      "['Statements & Releases', 'https://www.whitehouse.gov/briefings-statements/statement-president-donald-j-trump-regarding-turkeys-actions-northeast-syria/', 'Statement from President Donald J. Trump Regarding Turkeys Actions in Northeast Syria']\n",
      "['Remarks', 'https://www.whitehouse.gov/briefings-statements/remarks-president-trump-values-voter-summit/', 'Remarks by President Trump at Values Voter Summit']\n",
      "['Statements & Releases', 'https://www.whitehouse.gov/briefings-statements/presidential-message-244th-birthday-united-states-navy/', 'Presidential Message on the 244th Birthday of the United States Navy']\n",
      "['Statements & Releases', 'https://www.whitehouse.gov/briefings-statements/text-letter-counsel-vice-president-chairman-cummings-chairman-engel-chairman-schiff/', 'Text of a Letter from the Counsel to the Vice President to Chairman Cummings, Chairman Engel and Chairman Schiff']\n",
      "['Remarks', 'https://www.whitehouse.gov/briefings-statements/remarks-president-trump-welcoming-2019-stanley-cup-champions-st-louis-blues/', 'Remarks by President Trump Welcoming the 2019 Stanley Cup Champions, St. Louis Blues']\n",
      "['Statements & Releases', 'https://www.whitehouse.gov/briefings-statements/text-message-congress-continuation-national-emergency-respect-significant-narcotics-traffickers-centered-colombia/', 'Text of a Message to the Congresson the Continuation of the National Emergency with Respect to Significant Narcotics Traffickers Centered in Colombia']\n",
      "['Statements & Releases', 'https://www.whitehouse.gov/briefings-statements/text-notice-continuation-national-emergency-respect-significant-narcotics-traffickers-centered-colombia-2/', 'Text of a Notice on the Continuation of the National Emergency with Respect to Significant Narcotics Traffickers Centered in Colombia']\n",
      "['Statements & Releases', 'https://www.whitehouse.gov/briefings-statements/readout-vice-president-mike-pences-meeting-prime-minister-arab-republic-egypt/', 'Readout of Vice President Mike Pences Meeting with the Prime Minister of the Arab Republic of Egypt']\n",
      "['Statements & Releases', 'https://www.whitehouse.gov/briefings-statements/president-donald-j-trump-announces-presidential-excellence-awards-science-mathematics-engineering/', 'President Donald J. Trump Announces Presidential Excellence Awards in Science, Mathematics, and Engineering']\n",
      "['Statements & Releases', 'https://www.whitehouse.gov/briefings-statements/text-letter-speaker-house-representatives-president-senate-13/', 'Text of a Letter to the Speaker of the House of Representatives and the President of the Senate']\n",
      "['Statements & Releases', 'https://www.whitehouse.gov/briefings-statements/statement-president-donald-j-trump-regarding-turkeys-actions-northeast-syria/', 'Statement from President Donald J. Trump Regarding Turkeys Actions in Northeast Syria']\n",
      "['Remarks', 'https://www.whitehouse.gov/briefings-statements/remarks-president-trump-values-voter-summit/', 'Remarks by President Trump at Values Voter Summit']\n",
      "['Statements & Releases', 'https://www.whitehouse.gov/briefings-statements/presidential-message-244th-birthday-united-states-navy/', 'Presidential Message on the 244th Birthday of the United States Navy']\n",
      "['Statements & Releases', 'https://www.whitehouse.gov/briefings-statements/text-letter-counsel-vice-president-chairman-cummings-chairman-engel-chairman-schiff/', 'Text of a Letter from the Counsel to the Vice President to Chairman Cummings, Chairman Engel and Chairman Schiff']\n",
      "['Remarks', 'https://www.whitehouse.gov/briefings-statements/remarks-president-trump-welcoming-2019-stanley-cup-champions-st-louis-blues/', 'Remarks by President Trump Welcoming the 2019 Stanley Cup Champions, St. Louis Blues']\n",
      "['Statements & Releases', 'https://www.whitehouse.gov/briefings-statements/text-message-congress-continuation-national-emergency-respect-significant-narcotics-traffickers-centered-colombia/', 'Text of a Message to the Congresson the Continuation of the National Emergency with Respect to Significant Narcotics Traffickers Centered in Colombia']\n",
      "['Statements & Releases', 'https://www.whitehouse.gov/briefings-statements/text-notice-continuation-national-emergency-respect-significant-narcotics-traffickers-centered-colombia-2/', 'Text of a Notice on the Continuation of the National Emergency with Respect to Significant Narcotics Traffickers Centered in Colombia']\n",
      "['Statements & Releases', 'https://www.whitehouse.gov/briefings-statements/readout-vice-president-mike-pences-meeting-prime-minister-arab-republic-egypt/', 'Readout of Vice President Mike Pences Meeting with the Prime Minister of the Arab Republic of Egypt']\n",
      "['Statements & Releases', 'https://www.whitehouse.gov/briefings-statements/president-donald-j-trump-announces-presidential-excellence-awards-science-mathematics-engineering/', 'President Donald J. Trump Announces Presidential Excellence Awards in Science, Mathematics, and Engineering']\n",
      "['Statements & Releases', 'https://www.whitehouse.gov/briefings-statements/text-letter-speaker-house-representatives-president-senate-13/', 'Text of a Letter to the Speaker of the House of Representatives and the President of the Senate']\n",
      "['Statements & Releases', 'https://www.whitehouse.gov/briefings-statements/statement-president-donald-j-trump-regarding-turkeys-actions-northeast-syria/', 'Statement from President Donald J. Trump Regarding Turkeys Actions in Northeast Syria']\n",
      "['Remarks', 'https://www.whitehouse.gov/briefings-statements/remarks-president-trump-values-voter-summit/', 'Remarks by President Trump at Values Voter Summit']\n",
      "['Statements & Releases', 'https://www.whitehouse.gov/briefings-statements/presidential-message-244th-birthday-united-states-navy/', 'Presidential Message on the 244th Birthday of the United States Navy']\n",
      "['Statements & Releases', 'https://www.whitehouse.gov/briefings-statements/text-letter-counsel-vice-president-chairman-cummings-chairman-engel-chairman-schiff/', 'Text of a Letter from the Counsel to the Vice President to Chairman Cummings, Chairman Engel and Chairman Schiff']\n",
      "['Remarks', 'https://www.whitehouse.gov/briefings-statements/remarks-president-trump-welcoming-2019-stanley-cup-champions-st-louis-blues/', 'Remarks by President Trump Welcoming the 2019 Stanley Cup Champions, St. Louis Blues']\n",
      "['Statements & Releases', 'https://www.whitehouse.gov/briefings-statements/text-message-congress-continuation-national-emergency-respect-significant-narcotics-traffickers-centered-colombia/', 'Text of a Message to the Congresson the Continuation of the National Emergency with Respect to Significant Narcotics Traffickers Centered in Colombia']\n",
      "['Statements & Releases', 'https://www.whitehouse.gov/briefings-statements/text-notice-continuation-national-emergency-respect-significant-narcotics-traffickers-centered-colombia-2/', 'Text of a Notice on the Continuation of the National Emergency with Respect to Significant Narcotics Traffickers Centered in Colombia']\n",
      "['Statements & Releases', 'https://www.whitehouse.gov/briefings-statements/readout-vice-president-mike-pences-meeting-prime-minister-arab-republic-egypt/', 'Readout of Vice President Mike Pences Meeting with the Prime Minister of the Arab Republic of Egypt']\n",
      "['Statements & Releases', 'https://www.whitehouse.gov/briefings-statements/president-donald-j-trump-announces-presidential-excellence-awards-science-mathematics-engineering/', 'President Donald J. Trump Announces Presidential Excellence Awards in Science, Mathematics, and Engineering']\n",
      "['Statements & Releases', 'https://www.whitehouse.gov/briefings-statements/text-letter-speaker-house-representatives-president-senate-13/', 'Text of a Letter to the Speaker of the House of Representatives and the President of the Senate']\n",
      "['Statements & Releases', 'https://www.whitehouse.gov/briefings-statements/statement-president-donald-j-trump-regarding-turkeys-actions-northeast-syria/', 'Statement from President Donald J. Trump Regarding Turkeys Actions in Northeast Syria']\n",
      "['Remarks', 'https://www.whitehouse.gov/briefings-statements/remarks-president-trump-values-voter-summit/', 'Remarks by President Trump at Values Voter Summit']\n",
      "['Statements & Releases', 'https://www.whitehouse.gov/briefings-statements/presidential-message-244th-birthday-united-states-navy/', 'Presidential Message on the 244th Birthday of the United States Navy']\n"
     ]
    }
   ],
   "source": [
    "for article in data:\n",
    "        print(article)"
   ]
  },
  {
   "cell_type": "markdown",
   "metadata": {},
   "source": [
    "# 7. Saving data for later use\n",
    "\n",
    "To save data, we will create a txt file and save them as follows:\n",
    "\n",
    "**every row will have the article_type followed by the article_url followed by the article_text**\n",
    "\n",
    "Doing so is easy\n",
    "\n",
    "\n"
   ]
  },
  {
   "cell_type": "code",
   "execution_count": 22,
   "metadata": {},
   "outputs": [
    {
     "ename": "FileNotFoundError",
     "evalue": "[Errno 2] No such file or directory: 'files/whitehouse_statements.txt'",
     "output_type": "error",
     "traceback": [
      "\u001b[1;31m---------------------------------------------------------------------------\u001b[0m",
      "\u001b[1;31mFileNotFoundError\u001b[0m                         Traceback (most recent call last)",
      "\u001b[1;32m<ipython-input-22-93dbda2237c0>\u001b[0m in \u001b[0;36m<module>\u001b[1;34m\u001b[0m\n\u001b[1;32m----> 1\u001b[1;33m \u001b[1;32mwith\u001b[0m \u001b[0mopen\u001b[0m\u001b[1;33m(\u001b[0m\u001b[1;34m'files/whitehouse_statements.txt'\u001b[0m\u001b[1;33m,\u001b[0m \u001b[0mmode\u001b[0m\u001b[1;33m=\u001b[0m\u001b[1;34m'w'\u001b[0m\u001b[1;33m,\u001b[0m \u001b[0mencoding\u001b[0m\u001b[1;33m=\u001b[0m\u001b[1;34m'utf-8'\u001b[0m\u001b[1;33m)\u001b[0m \u001b[1;32mas\u001b[0m \u001b[0mf\u001b[0m\u001b[1;33m:\u001b[0m\u001b[1;33m\u001b[0m\u001b[1;33m\u001b[0m\u001b[0m\n\u001b[0m\u001b[0;32m      2\u001b[0m     \u001b[1;32mfor\u001b[0m \u001b[0mstatement\u001b[0m \u001b[1;32min\u001b[0m \u001b[0mdata\u001b[0m\u001b[1;33m:\u001b[0m\u001b[1;33m\u001b[0m\u001b[1;33m\u001b[0m\u001b[0m\n\u001b[0;32m      3\u001b[0m         \u001b[0mf\u001b[0m\u001b[1;33m.\u001b[0m\u001b[0mwrite\u001b[0m\u001b[1;33m(\u001b[0m\u001b[0mstatement\u001b[0m\u001b[1;33m[\u001b[0m\u001b[1;36m0\u001b[0m\u001b[1;33m]\u001b[0m \u001b[1;33m+\u001b[0m \u001b[1;34m'\\t'\u001b[0m \u001b[1;33m+\u001b[0m \u001b[0mstatement\u001b[0m\u001b[1;33m[\u001b[0m\u001b[1;36m1\u001b[0m\u001b[1;33m]\u001b[0m \u001b[1;33m+\u001b[0m \u001b[1;34m'\\t'\u001b[0m \u001b[1;33m+\u001b[0m \u001b[0mstatement\u001b[0m\u001b[1;33m[\u001b[0m\u001b[1;36m2\u001b[0m\u001b[1;33m]\u001b[0m \u001b[1;33m+\u001b[0m \u001b[1;34m'\\n'\u001b[0m\u001b[1;33m)\u001b[0m\u001b[1;33m\u001b[0m\u001b[1;33m\u001b[0m\u001b[0m\n",
      "\u001b[1;31mFileNotFoundError\u001b[0m: [Errno 2] No such file or directory: 'files/whitehouse_statements.txt'"
     ]
    }
   ],
   "source": [
    "with open('whitehouse_statements.txt', mode='w', encoding='utf-8') as f:\n",
    "    for statement in data:\n",
    "        f.write(statement[0] + '\\t' + statement[1] + '\\t' + statement[2] + '\\n')"
   ]
  },
  {
   "cell_type": "markdown",
   "metadata": {},
   "source": [
    "# 8. Opening data to use it\n",
    "\n",
    "\n",
    "To open this data from the file, we simply need to"
   ]
  },
  {
   "cell_type": "code",
   "execution_count": null,
   "metadata": {},
   "outputs": [],
   "source": [
    "with open('whitehouse_statements.txt', mode='r', encoding = 'utf-8') as f:\n",
    "    data = f.read()\n",
    "    \n",
    "# break into lines, then break each line into article_type, aritcle_url, article_text\n",
    "# throw away last element because it is simply an empty line\n",
    "data = data.split('\\n')[0:-1]\n",
    "\n",
    "for i in range(0,len(data)):\n",
    "    data[i] = data[i].split('\\t')\n",
    "\n"
   ]
  },
  {
   "cell_type": "markdown",
   "metadata": {},
   "source": [
    "# <font color='red'> If you understood this notebook, HW2 will be a walk in the park </font>"
   ]
  },
  {
   "cell_type": "code",
   "execution_count": null,
   "metadata": {},
   "outputs": [],
   "source": []
  },
  {
   "cell_type": "code",
   "execution_count": null,
   "metadata": {},
   "outputs": [],
   "source": []
  }
 ],
 "metadata": {
  "kernelspec": {
   "display_name": "Python 3",
   "language": "python",
   "name": "python3"
  },
  "language_info": {
   "codemirror_mode": {
    "name": "ipython",
    "version": 3
   },
   "file_extension": ".py",
   "mimetype": "text/x-python",
   "name": "python",
   "nbconvert_exporter": "python",
   "pygments_lexer": "ipython3",
   "version": "3.7.3"
  }
 },
 "nbformat": 4,
 "nbformat_minor": 2
}
