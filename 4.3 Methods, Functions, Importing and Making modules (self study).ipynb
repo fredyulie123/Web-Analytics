{
 "cells": [
  {
   "cell_type": "markdown",
   "metadata": {},
   "source": [
    "# Methods\n",
    "\n",
    "Methods are functions built into objects. We have used several methods up to now.\n",
    "\n",
    "Methods will generally perform certain actions on the object, and can also take arguments, just like a function does (more on that in a minute).\n",
    "\n",
    "Methods generally have the following form\n",
    "\n",
    "    object.method(arg1,arg2,....)\n",
    "    \n",
    "We will not dive deeper into methods, but it's sufficient for our purposes to know how they work. Let's revisit some examples that will help us realize when we have been using methods thus far."
   ]
  },
  {
   "cell_type": "code",
   "execution_count": 1,
   "metadata": {},
   "outputs": [],
   "source": [
    "#lists are objects and have their own built-in methods\n",
    "my_list = [1,2,3,4]"
   ]
  },
  {
   "cell_type": "code",
   "execution_count": 2,
   "metadata": {},
   "outputs": [
    {
     "data": {
      "text/plain": [
       "[1, 2, 3, 4, 6, 6]"
      ]
     },
     "execution_count": 2,
     "metadata": {},
     "output_type": "execute_result"
    }
   ],
   "source": [
    "#one of these methods is the .append() method that we've used before!\n",
    "my_list.append(6)\n",
    "my_list.append(6)\n",
    "my_list"
   ]
  },
  {
   "cell_type": "code",
   "execution_count": 3,
   "metadata": {},
   "outputs": [
    {
     "data": {
      "text/plain": [
       "1"
      ]
     },
     "execution_count": 3,
     "metadata": {},
     "output_type": "execute_result"
    }
   ],
   "source": [
    "# or the count.(arg1) method that counts the occurences of arg1 in the list\n",
    "my_list.count(4)"
   ]
  },
  {
   "cell_type": "code",
   "execution_count": 4,
   "metadata": {},
   "outputs": [
    {
     "data": {
      "text/plain": [
       "2"
      ]
     },
     "execution_count": 4,
     "metadata": {},
     "output_type": "execute_result"
    }
   ],
   "source": [
    "my_list.count(6)"
   ]
  },
  {
   "cell_type": "markdown",
   "metadata": {},
   "source": [
    "# Functions\n",
    "\n",
    "A function is, broadly, a useful device that groups together a number of statements so they can run more than once. Functions become increasingly important as our code grows and we want to perform the same thing many times in our code. \n",
    "\n",
    "Functions are pretty similar to mathematical functions. Let's see an example.\n",
    "- Consider the function f(x) = 5\\*x\n",
    "- what that does is get an argument, and multiply it by the number 5\n",
    "- so f(5) = 25, f(0) = 0, and f(30)=150.\n",
    "\n",
    "Functions work similarly in Python. To use a function we must first define it with the **def** statement"
   ]
  },
  {
   "cell_type": "code",
   "execution_count": 5,
   "metadata": {},
   "outputs": [],
   "source": [
    "def my_function(arg1, arg2):\n",
    "    #statement 1\n",
    "    #...\n",
    "    #statement n\n",
    "    #return something\n",
    "    pass"
   ]
  },
  {
   "cell_type": "markdown",
   "metadata": {},
   "source": [
    "So let's take a look at the structure of our function.\n",
    "- function definitions begin with def. Pretty straightforward\n",
    "- the arguments are enclosed in parentheses. A function can have 0 arguments. the function can use these arguments as input and reference them by name. (we'll see examples in a second)\n",
    "- in the code block of the function we can have one or more code statements\n",
    "- optionally, our function can return an object.\n",
    "\n",
    "Let's see some examples"
   ]
  },
  {
   "cell_type": "code",
   "execution_count": 6,
   "metadata": {},
   "outputs": [],
   "source": [
    "# a function that prints hello world\n",
    "def hello():\n",
    "    print('hello world')"
   ]
  },
  {
   "cell_type": "code",
   "execution_count": 7,
   "metadata": {},
   "outputs": [
    {
     "name": "stdout",
     "output_type": "stream",
     "text": [
      "hello world\n"
     ]
    }
   ],
   "source": [
    "hello()"
   ]
  },
  {
   "cell_type": "markdown",
   "metadata": {},
   "source": [
    "This function had zero arguments and just did the same thing every time. Let's proceed to more complex examples."
   ]
  },
  {
   "cell_type": "code",
   "execution_count": 8,
   "metadata": {},
   "outputs": [],
   "source": [
    "def welcome(arg1):\n",
    "    print('Welcome '+arg1+'!!!')"
   ]
  },
  {
   "cell_type": "code",
   "execution_count": 9,
   "metadata": {},
   "outputs": [
    {
     "name": "stdout",
     "output_type": "stream",
     "text": [
      "Welcome Apostolos!!!\n"
     ]
    }
   ],
   "source": [
    "welcome('Apostolos')"
   ]
  },
  {
   "cell_type": "code",
   "execution_count": 10,
   "metadata": {},
   "outputs": [
    {
     "name": "stdout",
     "output_type": "stream",
     "text": [
      "Welcome Aja!!!\n"
     ]
    }
   ],
   "source": [
    "welcome('Aja')"
   ]
  },
  {
   "cell_type": "markdown",
   "metadata": {},
   "source": [
    "This is the first function that has some functionality. we call the function inputing an argument that is a string, and the function welcomes the person whose name is represented by that string. \n",
    "\n",
    "Let's see a more complicated example."
   ]
  },
  {
   "cell_type": "code",
   "execution_count": 11,
   "metadata": {},
   "outputs": [],
   "source": [
    "def multi(x,y):\n",
    "    return(x*y)"
   ]
  },
  {
   "cell_type": "code",
   "execution_count": 12,
   "metadata": {},
   "outputs": [
    {
     "data": {
      "text/plain": [
       "12"
      ]
     },
     "execution_count": 12,
     "metadata": {},
     "output_type": "execute_result"
    }
   ],
   "source": [
    "multi(3,4)"
   ]
  },
  {
   "cell_type": "code",
   "execution_count": 13,
   "metadata": {},
   "outputs": [
    {
     "data": {
      "text/plain": [
       "50"
      ]
     },
     "execution_count": 13,
     "metadata": {},
     "output_type": "execute_result"
    }
   ],
   "source": [
    "multi(5,10)"
   ]
  },
  {
   "cell_type": "code",
   "execution_count": 14,
   "metadata": {},
   "outputs": [],
   "source": [
    "x = multi(5.5,5)"
   ]
  },
  {
   "cell_type": "code",
   "execution_count": 15,
   "metadata": {},
   "outputs": [
    {
     "data": {
      "text/plain": [
       "27.5"
      ]
     },
     "execution_count": 15,
     "metadata": {},
     "output_type": "execute_result"
    }
   ],
   "source": [
    "x"
   ]
  },
  {
   "cell_type": "markdown",
   "metadata": {},
   "source": [
    "This function takes two arguments and multiplies them. We can also save the result to a variable, since the function **returns** that value!\n",
    "\n",
    "The value that a function returns need not only be a number. For example, the following function returns a list!"
   ]
  },
  {
   "cell_type": "code",
   "execution_count": 16,
   "metadata": {},
   "outputs": [],
   "source": [
    "def multi(x,y):\n",
    "    return([x*x,y*y, x*y])"
   ]
  },
  {
   "cell_type": "code",
   "execution_count": 17,
   "metadata": {},
   "outputs": [
    {
     "data": {
      "text/plain": [
       "[25, 100, 50]"
      ]
     },
     "execution_count": 17,
     "metadata": {},
     "output_type": "execute_result"
    }
   ],
   "source": [
    "multi(5,10)"
   ]
  },
  {
   "cell_type": "markdown",
   "metadata": {
    "collapsed": true
   },
   "source": [
    "# Modules\n",
    "\n",
    "Modules in python are .py files, which implement a lot of useful methods.\n",
    "Modules allow us to not reinvent the wheel every time we want to do something in Python, and therefore can save us a lot of time.\n",
    "\n",
    "You can import a module using the import command. The first time you import the module in a python script it is initialized by executing the code in the module once. Let's see a common example."
   ]
  },
  {
   "cell_type": "code",
   "execution_count": 18,
   "metadata": {},
   "outputs": [],
   "source": [
    "#import the math module which has many useful methods!\n",
    "import math"
   ]
  },
  {
   "cell_type": "code",
   "execution_count": 19,
   "metadata": {},
   "outputs": [
    {
     "data": {
      "text/plain": [
       "4.941642422609304"
      ]
     },
     "execution_count": 19,
     "metadata": {},
     "output_type": "execute_result"
    }
   ],
   "source": [
    "#for example the log function\n",
    "math.log(140)"
   ]
  },
  {
   "cell_type": "code",
   "execution_count": 20,
   "metadata": {},
   "outputs": [
    {
     "data": {
      "text/plain": [
       "120"
      ]
     },
     "execution_count": 20,
     "metadata": {},
     "output_type": "execute_result"
    }
   ],
   "source": [
    "#or the factorial function\n",
    "math.factorial(5)"
   ]
  },
  {
   "cell_type": "markdown",
   "metadata": {},
   "source": [
    "Pretty cool right? Now all of the code that so many people have written in the past is available for you to use!\n",
    "\n",
    "That is in large part the power of programming and of open source!"
   ]
  },
  {
   "cell_type": "markdown",
   "metadata": {},
   "source": [
    "# Making your own modules\n",
    "\n",
    "You can make your own modules: simply create a Python script (e.g., foo.py) , and import it from another script (e.g. import foo.py).\n",
    "- The most common practical use is to import scripts that create useful functions.\n",
    "- This is extremely useful, because it allows you not to re-write the same code numerous times \n",
    "\n",
    "A file can have different functionalities depending on whether you run it as the main script, or it is imported by another file.\n",
    "- This is achieved through the use of the \"if __name__=='__main__':\" code block. The code block associated with this if clause will only run if your script is evoked as the main script (and will be ignored if it is imported).\n",
    "- For more details on how this works, see the many excellent answers here: http://bit.ly/ifMainPython\n",
    "- See script 4.2 for an example application\n"
   ]
  },
  {
   "cell_type": "code",
   "execution_count": null,
   "metadata": {},
   "outputs": [],
   "source": []
  }
 ],
 "metadata": {
  "kernelspec": {
   "display_name": "Python 3",
   "language": "python",
   "name": "python3"
  },
  "language_info": {
   "codemirror_mode": {
    "name": "ipython",
    "version": 3
   },
   "file_extension": ".py",
   "mimetype": "text/x-python",
   "name": "python",
   "nbconvert_exporter": "python",
   "pygments_lexer": "ipython3",
   "version": "3.7.3"
  }
 },
 "nbformat": 4,
 "nbformat_minor": 1
}
