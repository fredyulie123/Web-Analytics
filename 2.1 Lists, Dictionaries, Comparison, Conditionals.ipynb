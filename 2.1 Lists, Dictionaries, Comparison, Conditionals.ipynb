{
 "cells": [
  {
   "cell_type": "markdown",
   "metadata": {},
   "source": [
    "# HANDS-ON SESSION 2\n",
    "\n",
    "\n",
    "# 1. Lists\n",
    "\n",
    "We introduced the concept of *sequence* when discussing strings.\n",
    "Strings are, simply put, a sequence of characters that is immutable.\n",
    "\n",
    "Lists are the more general version of sequences and are very much **mutable**; the elements of a list can be changed!\n",
    "\n",
    "\n",
    "## 1.1 Basics\n",
    "Lists are constructed with brackets **[ ]** and with commas separating every element of the list. \n",
    "Let's see an example."
   ]
  },
  {
   "cell_type": "code",
   "execution_count": null,
   "metadata": {
    "scrolled": true
   },
   "outputs": [],
   "source": [
    "#assign a list to a variable with name first_list\n",
    "first_list = [1, 2, 3]\n",
    "first_list"
   ]
  },
  {
   "cell_type": "code",
   "execution_count": null,
   "metadata": {},
   "outputs": [],
   "source": [
    "#lists can hold different types of objects in each index, not only integers!\n",
    "first_list = [1.3233, 5, 'hello_world']\n",
    "first_list"
   ]
  },
  {
   "cell_type": "code",
   "execution_count": null,
   "metadata": {},
   "outputs": [],
   "source": [
    "#the len() function tells you how many elements the list has\n",
    "len(first_list)"
   ]
  },
  {
   "cell_type": "markdown",
   "metadata": {},
   "source": [
    "## 1.2 Indexing and Slicing\n",
    "Indexing and slicing of lists works very similarly to that of strings. Let's work through some examples."
   ]
  },
  {
   "cell_type": "code",
   "execution_count": null,
   "metadata": {},
   "outputs": [],
   "source": [
    "# Grab the first element of the list\n",
    "first_list[0]"
   ]
  },
  {
   "cell_type": "code",
   "execution_count": null,
   "metadata": {},
   "outputs": [],
   "source": [
    "# Grab the second element of the list\n",
    "first_list[1]"
   ]
  },
  {
   "cell_type": "code",
   "execution_count": null,
   "metadata": {},
   "outputs": [],
   "source": [
    "# Grab the third element of the list\n",
    "first_list[2]"
   ]
  },
  {
   "cell_type": "code",
   "execution_count": null,
   "metadata": {
    "scrolled": true
   },
   "outputs": [],
   "source": [
    "# Grab the twentieth element of the list\n",
    "first_list[19]"
   ]
  },
  {
   "cell_type": "code",
   "execution_count": null,
   "metadata": {},
   "outputs": [],
   "source": [
    "# Grab the last element of the list\n",
    "first_list[-1]"
   ]
  },
  {
   "cell_type": "code",
   "execution_count": null,
   "metadata": {},
   "outputs": [],
   "source": [
    "# grab index 1 and everything after it\n",
    "# notice that the outcome is a list!\n",
    "first_list[1:]"
   ]
  },
  {
   "cell_type": "code",
   "execution_count": null,
   "metadata": {},
   "outputs": [],
   "source": [
    "# grab index 2 and everything after it\n",
    "# notice that the outcome is a list, which ic different than grabbing the element at position 2!\n",
    "first_list[2:]"
   ]
  },
  {
   "cell_type": "code",
   "execution_count": null,
   "metadata": {},
   "outputs": [],
   "source": [
    "# notice that the outcome is a list, which ic different than grabbing the element at position 2!\n",
    "first_list[2]"
   ]
  },
  {
   "cell_type": "code",
   "execution_count": null,
   "metadata": {},
   "outputs": [],
   "source": [
    "#concatenating lists, just as in strings\n",
    "first_list + ['new element', 'another new element']"
   ]
  },
  {
   "cell_type": "code",
   "execution_count": null,
   "metadata": {},
   "outputs": [],
   "source": [
    "#this change is not permanent, because we haven't assigned it to a variable!\n",
    "first_list"
   ]
  },
  {
   "cell_type": "code",
   "execution_count": null,
   "metadata": {},
   "outputs": [],
   "source": [
    "#to make it permanent we would have to reassign!\n",
    "first_list = first_list + ['new element', 'another new element']\n",
    "first_list"
   ]
  },
  {
   "cell_type": "code",
   "execution_count": null,
   "metadata": {},
   "outputs": [],
   "source": [
    "#remember that when slicing the elements we grab do not include the second index\n",
    "first_list[3:5]"
   ]
  },
  {
   "cell_type": "code",
   "execution_count": null,
   "metadata": {},
   "outputs": [],
   "source": [
    "#we can even multiply a list!\n",
    "['some string']*5"
   ]
  },
  {
   "cell_type": "markdown",
   "metadata": {},
   "source": [
    "## 1.3 Useful list functions\n",
    "\n",
    "We are now going to cover some of the most useful list methods. \n",
    "- **append( k )**  appends k at the end of the list\n",
    "- **pop( k )**    pops off the item at index k. If we specify no index, pops off the last element\n",
    "- **reverse( )**   reverses the order of the items in the list\n",
    "- **sort( )**      sorts the list in alphabetical order, but for numbers it orders in ascending order\n",
    "- **insert( k, arg )** inserts arg at index k. Everything that follows is shifted one position to the right\n",
    "- **remove( arg )** removes the first occurence of arg from the list\n",
    "\n",
    "Let's see some examples."
   ]
  },
  {
   "cell_type": "code",
   "execution_count": null,
   "metadata": {},
   "outputs": [],
   "source": [
    "#create a new list\n",
    "x = [1,2,3]\n",
    "x"
   ]
  },
  {
   "cell_type": "code",
   "execution_count": null,
   "metadata": {},
   "outputs": [],
   "source": [
    "#append the string 'hello world' at the end of the list\n",
    "x.append('hello world')\n",
    "x"
   ]
  },
  {
   "cell_type": "code",
   "execution_count": null,
   "metadata": {},
   "outputs": [],
   "source": [
    "#pop the first item of the list\n",
    "x.pop(0)\n",
    "x"
   ]
  },
  {
   "cell_type": "code",
   "execution_count": null,
   "metadata": {},
   "outputs": [],
   "source": [
    "#you can assign the popped item to another variable!\n",
    "#when pop has no argument, it pops the last item off the list\n",
    "popped_item = x.pop()\n",
    "x"
   ]
  },
  {
   "cell_type": "code",
   "execution_count": null,
   "metadata": {},
   "outputs": [],
   "source": [
    "popped_item"
   ]
  },
  {
   "cell_type": "code",
   "execution_count": null,
   "metadata": {},
   "outputs": [],
   "source": [
    "# create a list of numbers then sort it\n",
    "number_list = [1,4,5,2,0,6]\n",
    "number_list.sort()\n",
    "number_list"
   ]
  },
  {
   "cell_type": "code",
   "execution_count": null,
   "metadata": {},
   "outputs": [],
   "source": [
    "#create a list of characters then sort it\n",
    "char_list = ['a','x','d', 'z','o']\n",
    "char_list.sort()\n",
    "char_list"
   ]
  },
  {
   "cell_type": "code",
   "execution_count": null,
   "metadata": {},
   "outputs": [],
   "source": [
    "#now reverse your list of characters\n",
    "char_list.reverse()\n",
    "char_list"
   ]
  },
  {
   "cell_type": "code",
   "execution_count": null,
   "metadata": {},
   "outputs": [],
   "source": [
    "#insert 'hello_world' in the 3rd position (index 2)\n",
    "char_list.insert(2, 'hello_world')\n",
    "char_list"
   ]
  },
  {
   "cell_type": "code",
   "execution_count": null,
   "metadata": {},
   "outputs": [],
   "source": [
    "#let's remove 'o' from the list\n",
    "char_list.remove('o')\n",
    "char_list"
   ]
  },
  {
   "cell_type": "markdown",
   "metadata": {},
   "source": [
    "## 1.4 Nesting - lists of lists\n",
    "\n",
    "Data structures in Python support nesting - you can have data structures within data structures.\n",
    "\n",
    "Lets see an example of lists inside lists."
   ]
  },
  {
   "cell_type": "code",
   "execution_count": null,
   "metadata": {},
   "outputs": [],
   "source": [
    "x1 = [1,2,3]\n",
    "x2 = [4,5,6]\n",
    "x3 = [7,8,9]\n",
    "\n",
    "#now make a list of lists\n",
    "matrix = [x1, x2, x3]\n",
    "matrix"
   ]
  },
  {
   "cell_type": "markdown",
   "metadata": {},
   "source": [
    "You now have a list of lists. \n",
    "\n",
    "The variable matrix is a list that has\n",
    "- the list [1,2,3] in its first place (index = 0)\n",
    "- the list [4,5,6] in its first place (index = 1)\n",
    "- the list [7,8,9] in its first place (index = 2)\n",
    "\n",
    "When you use indexing you get back an element that is a list."
   ]
  },
  {
   "cell_type": "code",
   "execution_count": null,
   "metadata": {},
   "outputs": [],
   "source": [
    "matrix[0]"
   ]
  },
  {
   "cell_type": "code",
   "execution_count": null,
   "metadata": {},
   "outputs": [],
   "source": [
    "matrix[1]"
   ]
  },
  {
   "cell_type": "markdown",
   "metadata": {},
   "source": [
    "Since matrix[1] is now a list, you can use indexing on that list, and hence we have two levels of indexing."
   ]
  },
  {
   "cell_type": "code",
   "execution_count": null,
   "metadata": {},
   "outputs": [],
   "source": [
    "matrix[1][0]"
   ]
  },
  {
   "cell_type": "code",
   "execution_count": null,
   "metadata": {},
   "outputs": [],
   "source": [
    "matrix[1][1:]"
   ]
  },
  {
   "cell_type": "code",
   "execution_count": null,
   "metadata": {},
   "outputs": [],
   "source": [
    "matrix[0][:2]"
   ]
  },
  {
   "cell_type": "markdown",
   "metadata": {},
   "source": [
    "You can also have a list with elements of many different types"
   ]
  },
  {
   "cell_type": "code",
   "execution_count": null,
   "metadata": {},
   "outputs": [],
   "source": [
    "l = [ 1, 2.5, 'hello world', [4,5,6]]\n",
    "l[2]"
   ]
  },
  {
   "cell_type": "code",
   "execution_count": null,
   "metadata": {},
   "outputs": [],
   "source": [
    "#grab the five first elements of the string on position 2\n",
    "l[2][:5]"
   ]
  },
  {
   "cell_type": "code",
   "execution_count": null,
   "metadata": {},
   "outputs": [],
   "source": [
    "#grab the second element of the list on position 3\n",
    "l[3][2]"
   ]
  },
  {
   "cell_type": "code",
   "execution_count": null,
   "metadata": {},
   "outputs": [],
   "source": [
    "#careful - not all elements of the list can be indexed.\n",
    "#for example, integers have no meaningful indexing\n",
    "l[1][1]"
   ]
  },
  {
   "cell_type": "markdown",
   "metadata": {},
   "source": [
    "We can therefore have lists, and lists of lists, and even lists of lists of lists of lists ... it's like inception!"
   ]
  },
  {
   "cell_type": "markdown",
   "metadata": {
    "collapsed": true
   },
   "source": [
    "# 2 Dictionaries\n",
    "\n",
    "We saw how two type of sequences work - **strings** and **lists**.\n",
    "\n",
    "While sequences are definitely useful, we will now introduce one of the most commonly used (and most powerful) data structure that Python offers, the **dictionary**\n",
    "\n",
    "The dictionary belongs to the class of data structures we call *mappings*.\n",
    "- Sequences are stored and can be accessed by their index which indicates their relative position (0, 1, ...). This sounds nice and orderly, but finding an element stored in a list is costly...\n",
    "- On the other hand, **every object of a mapping is associated with a unique key**\n",
    "\n",
    "This distinction is important, because dictionaries (and more generally mappings) do not have any definition of order; to access an object you just use its key.\n",
    "- A python dictionary consists of keys, and the values that are associated with each key.\n",
    "- Almost any object can be a dictionary value.\n",
    "- However, **only immutable objects can be dictionary keys**\n",
    "\n",
    "But enough with the definitions, practice is the best teacher when it comes to programming. \n",
    "\n",
    "## 2.1  Dictionary Basics\n",
    "\n",
    "We start by constructing a dictionary. \n",
    "\n",
    "Dictionaries are defined by using **{ }**. Each element is of the form x:y where x is the *key* and y is the corresponding *value*."
   ]
  },
  {
   "cell_type": "code",
   "execution_count": null,
   "metadata": {},
   "outputs": [],
   "source": [
    "#our first simple dictionary\n",
    "first_dict = {'key1':'value1', 'key2':'value2'}"
   ]
  },
  {
   "cell_type": "markdown",
   "metadata": {},
   "source": [
    "This is a dictionary that has two values:\n",
    "- 'value1' accessible through the key 'key1'\n",
    "- 'value2' accessible through the key 'key2'\n",
    "\n",
    "To access these values, use the key (instead of using the index as you would've done with lists)"
   ]
  },
  {
   "cell_type": "code",
   "execution_count": null,
   "metadata": {},
   "outputs": [],
   "source": [
    "first_dict['key1']"
   ]
  },
  {
   "cell_type": "code",
   "execution_count": null,
   "metadata": {},
   "outputs": [],
   "source": [
    "first_dict['key2']"
   ]
  },
  {
   "cell_type": "code",
   "execution_count": null,
   "metadata": {},
   "outputs": [],
   "source": [
    "#careful which keys you use; if they haven't been used in the dictionary you'll get an error\n",
    "first_dict['other_key']"
   ]
  },
  {
   "cell_type": "code",
   "execution_count": null,
   "metadata": {},
   "outputs": [],
   "source": [
    "#careful: there's no concept of an order in dictionaries..\n",
    "first_dict[0]"
   ]
  },
  {
   "cell_type": "code",
   "execution_count": null,
   "metadata": {},
   "outputs": [],
   "source": [
    "#dictionaries are pretty flexible!\n",
    "first_dict = {'key1':1337, \n",
    "              'key2':['hello','world','(again)'], \n",
    "              'key3':[1,2,5.66], \n",
    "               1337: 'elite'}"
   ]
  },
  {
   "cell_type": "code",
   "execution_count": null,
   "metadata": {},
   "outputs": [],
   "source": [
    "# and you can add elements as you go\n",
    "first_dict['MIS201'] = \"pure fire\"\n",
    "first_dict['cat'] = 'dog'"
   ]
  },
  {
   "cell_type": "code",
   "execution_count": null,
   "metadata": {},
   "outputs": [],
   "source": [
    "first_dict"
   ]
  },
  {
   "cell_type": "markdown",
   "metadata": {},
   "source": [
    "## 2.2 Inception Part 2\n",
    "\n",
    "The value of a dictionary entry can be pretty much anything"
   ]
  },
  {
   "cell_type": "code",
   "execution_count": null,
   "metadata": {},
   "outputs": [],
   "source": [
    "#now the value associated with 'key2' is a list of strings\n",
    "first_dict['key2']"
   ]
  },
  {
   "cell_type": "code",
   "execution_count": null,
   "metadata": {},
   "outputs": [],
   "source": [
    "#and we can access any of its elements indexing iteratively\n",
    "first_dict['key2'][2]"
   ]
  },
  {
   "cell_type": "code",
   "execution_count": null,
   "metadata": {},
   "outputs": [],
   "source": [
    "#or even go deeper\n",
    "first_dict['key2'][2][:4]"
   ]
  },
  {
   "cell_type": "code",
   "execution_count": null,
   "metadata": {},
   "outputs": [],
   "source": [
    "#and deeper\n",
    "first_dict['key2'][2][:4].upper()"
   ]
  },
  {
   "cell_type": "markdown",
   "metadata": {},
   "source": [
    "and a value can also be ... you guessed it ... a dictionary!"
   ]
  },
  {
   "cell_type": "code",
   "execution_count": null,
   "metadata": {},
   "outputs": [],
   "source": [
    "#as before, we can have a dictionary inside a dictionary, etc.\n",
    "first_dict['dict1'] = {'inner_dict':'some_value'}"
   ]
  },
  {
   "cell_type": "code",
   "execution_count": null,
   "metadata": {},
   "outputs": [],
   "source": [
    "first_dict"
   ]
  },
  {
   "cell_type": "markdown",
   "metadata": {},
   "source": [
    "## 2.3 Useful dictionary operations\n",
    "\n",
    "We cover here some commonly used dictionary methods\n",
    "- **keys()**   returns a list with all the keys\n",
    "- **values()** returns a list with all the values\n",
    "- **items()**  returns a list whose elements are *tuples* with dictionary key-value pairs."
   ]
  },
  {
   "cell_type": "code",
   "execution_count": null,
   "metadata": {},
   "outputs": [],
   "source": [
    "#create a typical dictionary\n",
    "my_dict = {'cat':'die Katze', 'dog':'der Hund', 'mice':'die Mäuse'}"
   ]
  },
  {
   "cell_type": "code",
   "execution_count": null,
   "metadata": {},
   "outputs": [],
   "source": [
    "#get the list of all keys\n",
    "list(my_dict.keys())"
   ]
  },
  {
   "cell_type": "code",
   "execution_count": null,
   "metadata": {},
   "outputs": [],
   "source": [
    "#get the list of all value\n",
    "list(my_dict.values())"
   ]
  },
  {
   "cell_type": "code",
   "execution_count": null,
   "metadata": {},
   "outputs": [],
   "source": [
    "#get the list of all pairs\n",
    "list(my_dict.items())"
   ]
  },
  {
   "cell_type": "code",
   "execution_count": null,
   "metadata": {},
   "outputs": [],
   "source": [
    "#you can delete a key/value pair by using del[key]\n",
    "del my_dict['mice']\n",
    "my_dict"
   ]
  },
  {
   "cell_type": "markdown",
   "metadata": {},
   "source": [
    "#### Note 1 \n",
    "\n",
    "Maybe going over all the different data types seems a little bit unnecessary now, but they will come in extremely handy in a while\n",
    "\n",
    "#### Note 2\n",
    "In the dictionary methods we used list() to convert something to a list. We won't bother with what that *something* is for now, but know that it is there to make Python both faster and more efficient"
   ]
  },
  {
   "cell_type": "markdown",
   "metadata": {},
   "source": [
    "# 3. Booleans\n",
    "\n",
    "Booleans are variables that can assume two values: True (1) and False (0).\n",
    "\n",
    "They can be useful in many situations, especially when we want to check whether a relationship holds or not. Let's see some examples."
   ]
  },
  {
   "cell_type": "code",
   "execution_count": null,
   "metadata": {},
   "outputs": [],
   "source": [
    "done = True\n",
    "done"
   ]
  },
  {
   "cell_type": "code",
   "execution_count": null,
   "metadata": {},
   "outputs": [],
   "source": [
    "done = False\n",
    "done"
   ]
  },
  {
   "cell_type": "code",
   "execution_count": null,
   "metadata": {},
   "outputs": [],
   "source": [
    "#check whether the number 15 is greater than -3\n",
    "15>-3"
   ]
  },
  {
   "cell_type": "code",
   "execution_count": null,
   "metadata": {},
   "outputs": [],
   "source": [
    "3>4"
   ]
  },
  {
   "cell_type": "code",
   "execution_count": null,
   "metadata": {},
   "outputs": [],
   "source": [
    "#check whether the number 15 is equal to -3\n",
    "15==3"
   ]
  },
  {
   "cell_type": "code",
   "execution_count": null,
   "metadata": {},
   "outputs": [],
   "source": [
    "#check whether the number 15 is not equal to -3\n",
    "15!=3"
   ]
  },
  {
   "cell_type": "markdown",
   "metadata": {},
   "source": [
    "## Table of Comparison Operators\n",
    "\n",
    "<table class=\"table table-bordered\">\n",
    "<tr>\n",
    "<th style=\"width:10%\">Operator</th><th style=\"width:45%\">Description</th><th>x=3, y=4</th>\n",
    "</tr>\n",
    "<tr>\n",
    "<td>==</td>\n",
    "<td>If the values of two args are equal, the condition becomes true.</td>\n",
    "<td> (x == y) is not true.</td>\n",
    "</tr>\n",
    "<tr>\n",
    "<td>!=</td>\n",
    "<td>If the values of two args are not equal, the condition becomes true.</td>\n",
    "<td>(x != y) is true</td>\n",
    "</tr>\n",
    "<tr>\n",
    "<td>&gt;</td>\n",
    "<td>If the value of the left arg is greater than the value of the right arg, the condition becomes true.</td>\n",
    "<td> (x &gt; y) is not true.</td>\n",
    "</tr>\n",
    "<tr>\n",
    "<td>&lt;</td>\n",
    "<td>If the value of the left arg is less than the value of the right arg, the condition becomes true.</td>\n",
    "<td> (x &lt; y) is true.</td>\n",
    "</tr>\n",
    "<tr>\n",
    "<td>&gt;=</td>\n",
    "<td>If the value of the left arg is greater than or equal to the value of the right arg, the condition becomes true.</td>\n",
    "<td> (x &gt;= y) is not true. </td>\n",
    "</tr>\n",
    "<tr>\n",
    "<td>&lt;=</td>\n",
    "<td>If the value of the left arg is less than or equal to the value of the right arg, the condition becomes true.</td>\n",
    "<td> (x &lt;= y) is true. </td>\n",
    "</tr>\n",
    "</table>"
   ]
  },
  {
   "cell_type": "markdown",
   "metadata": {},
   "source": [
    "## 4.1 Non-numeric equality\n",
    "\n",
    "The == and != operators can also check whether two objects are the same or different."
   ]
  },
  {
   "cell_type": "code",
   "execution_count": null,
   "metadata": {},
   "outputs": [],
   "source": [
    "x=[5,6]\n",
    "y=[5,6]\n",
    "x==y"
   ]
  },
  {
   "cell_type": "code",
   "execution_count": null,
   "metadata": {},
   "outputs": [],
   "source": [
    "x='this is a random string!!!'\n",
    "y='this is a different string'\n",
    "x==y"
   ]
  },
  {
   "cell_type": "code",
   "execution_count": null,
   "metadata": {},
   "outputs": [],
   "source": [
    "x!=y"
   ]
  },
  {
   "cell_type": "code",
   "execution_count": null,
   "metadata": {},
   "outputs": [],
   "source": [
    "len(x)==len(y)"
   ]
  },
  {
   "cell_type": "markdown",
   "metadata": {},
   "source": [
    "## 4.2 AND and OR statements\n",
    "\n",
    "We use the and statement to check whether two conditions hold at the same time\n",
    "- if both conditions hold, then the AND statement returns the value True\n",
    "- if at least one (or both) do not hold, then the AND statement returns the value False"
   ]
  },
  {
   "cell_type": "code",
   "execution_count": null,
   "metadata": {},
   "outputs": [],
   "source": [
    "4>2 and 2<5"
   ]
  },
  {
   "cell_type": "code",
   "execution_count": null,
   "metadata": {},
   "outputs": [],
   "source": [
    "4>3 and 15<4"
   ]
  },
  {
   "cell_type": "markdown",
   "metadata": {},
   "source": [
    "On the other hand, the **or** statement returns two if any of its two operands holds True."
   ]
  },
  {
   "cell_type": "code",
   "execution_count": null,
   "metadata": {},
   "outputs": [],
   "source": [
    "15<0 or 5==5"
   ]
  },
  {
   "cell_type": "markdown",
   "metadata": {},
   "source": [
    "While 15<0 is false, 5==5 holds true, and the or statement returns the value True."
   ]
  },
  {
   "cell_type": "code",
   "execution_count": null,
   "metadata": {},
   "outputs": [],
   "source": [
    "#parentheses work as in numerical calculations!\n",
    "( (5>3 and 3<2) or 15>0 ) and 5>=6"
   ]
  },
  {
   "cell_type": "code",
   "execution_count": null,
   "metadata": {},
   "outputs": [],
   "source": [
    "# assign my_dict to the variable second_dict by reference\n",
    "second_dict = my_dict\n",
    "\n",
    "#both refer to the same content\n",
    "print( my_dict == second_dict )\n",
    "print(my_dict)\n",
    "print(second_dict)\n",
    "\n",
    "#but each variable refers to the same place in memory!\n",
    "my_dict is second_dict"
   ]
  },
  {
   "cell_type": "code",
   "execution_count": null,
   "metadata": {},
   "outputs": [],
   "source": [
    "# when you change the contents, then they change for every referece (variable) to this place in memory\n",
    "my_dict['mice'] = 'die Mäuse'\n",
    "print(my_dict)\n",
    "print(second_dict)"
   ]
  },
  {
   "cell_type": "code",
   "execution_count": null,
   "metadata": {},
   "outputs": [],
   "source": [
    "del my_dict['mice']\n",
    "print(my_dict)\n",
    "print(second_dict)"
   ]
  },
  {
   "cell_type": "markdown",
   "metadata": {},
   "source": [
    "If you don't want this to happen, you have to perform an **assignment by value**\n",
    "- that is, make a copy of the original memory contents to the new variable\n",
    "- this can be done by specifying that you want a new copy"
   ]
  },
  {
   "cell_type": "code",
   "execution_count": null,
   "metadata": {},
   "outputs": [],
   "source": [
    "second_dict = dict(my_dict)\n",
    "print( my_dict == second_dict )\n",
    "print( my_dict is second_dict )"
   ]
  },
  {
   "cell_type": "code",
   "execution_count": null,
   "metadata": {},
   "outputs": [],
   "source": [
    "my_dict['mice'] = 'die Mäuse'\n",
    "print(my_dict)\n",
    "print(second_dict)"
   ]
  },
  {
   "cell_type": "markdown",
   "metadata": {},
   "source": [
    "The same thing holds for lists, but instead of dict(my_dict) you would have to call list(my_list)"
   ]
  },
  {
   "cell_type": "markdown",
   "metadata": {},
   "source": [
    "# 5. Conditionals\n",
    "\n",
    "## 5.1 If-else\n",
    "\n",
    "The **if (condition):** statement allows us to tell our computer to perform a certain set of actions if a condition holds. \n",
    "\n",
    "Let's see an example."
   ]
  },
  {
   "cell_type": "code",
   "execution_count": null,
   "metadata": {},
   "outputs": [],
   "source": [
    "#the condition x>0 holds, and the code inside the if block is executed\n",
    "x=5\n",
    "if x>0:\n",
    "    print('x is positive')"
   ]
  },
  {
   "cell_type": "code",
   "execution_count": null,
   "metadata": {},
   "outputs": [],
   "source": [
    "#the condition x>0 does not hold, and the code inside the if block is ignored\n",
    "x=5\n",
    "if x<0:\n",
    "    print('x is negative')"
   ]
  },
  {
   "cell_type": "markdown",
   "metadata": {},
   "source": [
    "The **else:** statement always follows an if statement, and tells us what to do when the if condition does not hold. \n",
    "\n",
    "Again, let's work through it using an example. "
   ]
  },
  {
   "cell_type": "code",
   "execution_count": null,
   "metadata": {},
   "outputs": [],
   "source": [
    "x=5\n",
    "if x>0: \n",
    "    print('x is positive')\n",
    "else:\n",
    "    print('x is not positive')"
   ]
  },
  {
   "cell_type": "code",
   "execution_count": null,
   "metadata": {},
   "outputs": [],
   "source": [
    "x=-3\n",
    "if x>0: \n",
    "    print('x is positive')\n",
    "else:\n",
    "    print('x is not positive')"
   ]
  },
  {
   "cell_type": "markdown",
   "metadata": {},
   "source": [
    "## 5.2 The elif statement\n",
    "\n",
    "The elif statement works similarly to if with few differences.\n",
    "- it always follows after an if statement\n",
    "- if the above if statement does not hold, then the following elif statement is checked.\n",
    "\n",
    "Let's see an example"
   ]
  },
  {
   "cell_type": "code",
   "execution_count": null,
   "metadata": {},
   "outputs": [],
   "source": [
    "name = 'Sarah'\n",
    "#the if condition is true - it is executed and anything below is ignored\n",
    "if name == 'Sarah':\n",
    "    print('Welcome Sarah!')\n",
    "elif name =='James':\n",
    "    print('Welcome James')"
   ]
  },
  {
   "cell_type": "code",
   "execution_count": null,
   "metadata": {},
   "outputs": [],
   "source": [
    "name = 'James'\n",
    "#the if condition is not true - we move on to the next condition which happens to be true\n",
    "if name == 'Sarah':\n",
    "    print('Welcome Sarah!')\n",
    "elif name =='James':\n",
    "    print('Welcome James')"
   ]
  },
  {
   "cell_type": "code",
   "execution_count": null,
   "metadata": {},
   "outputs": [],
   "source": [
    "name = 'Sarah'\n",
    "#both conditions are true, but only the first true condition is executed\n",
    "if name == 'Sarah':\n",
    "    print('Welcome Sarah!')\n",
    "elif name =='Sarah':\n",
    "    print('You are not welcome Sarah')"
   ]
  },
  {
   "cell_type": "code",
   "execution_count": null,
   "metadata": {},
   "outputs": [],
   "source": [
    "name = 'Arya'\n",
    "#none of the conditions are true, and the else condition is executed\n",
    "if name == 'Sarah':\n",
    "    print('Welcome Sarah!')\n",
    "elif name =='James':\n",
    "    print('Welcome James')\n",
    "else:\n",
    "    print('Welcome, what is your name?')"
   ]
  },
  {
   "cell_type": "markdown",
   "metadata": {},
   "source": [
    "## 5.3 Identation\n",
    "\n",
    "A code block - what is contained within an if or else statement can be simply identified by the fact that it is indented uniformly."
   ]
  },
  {
   "cell_type": "code",
   "execution_count": null,
   "metadata": {},
   "outputs": [],
   "source": [
    "name = 'Sarah'\n",
    "#none of the conditions are true, and the else condition is executed\n",
    "if name == 'Sarah':\n",
    "    print('Welcome Sarah!')\n",
    "    print('Would you like your regular?')\n",
    "elif name =='James':\n",
    "    print('Welcome James')\n",
    "    print('Dinner for two?')    \n",
    "else:\n",
    "    print('Welcome, what is your name?')\n",
    "    x = 'No one'\n",
    "    print('and how could I help you today,'+str(x))"
   ]
  },
  {
   "cell_type": "code",
   "execution_count": null,
   "metadata": {},
   "outputs": [],
   "source": [
    "name = 'Arya'\n",
    "#none of the conditions are true, and the else condition is executed\n",
    "if name == 'Sarah':\n",
    "    print('Welcome Sarah!')\n",
    "    print('would you like your regular?')\n",
    "elif name =='James':\n",
    "    print('Welcome James')\n",
    "    print('Dinner for two?')    \n",
    "else:\n",
    "    print('Welcome, what is your name?')\n",
    "    name = 'No One'\n",
    "    print('and how could I help you today, '+str(name)+'?')"
   ]
  },
  {
   "cell_type": "markdown",
   "metadata": {},
   "source": [
    "## 5.4 If's within if's\n",
    "\n",
    "In its natural inception fashion, Python allows for if statements within if statements within if statements... .\n",
    "\n",
    "Let's see a simple example"
   ]
  },
  {
   "cell_type": "code",
   "execution_count": null,
   "metadata": {},
   "outputs": [],
   "source": [
    "x = -30\n",
    "if x>0:\n",
    "    if x>10:\n",
    "        print('x is positive and  bigger than 10')\n",
    "    else:\n",
    "        print('x is positive and less than or equal to 10')\n",
    "elif x<0:\n",
    "    if x<-10:\n",
    "        print('x is negative and less than -10')\n",
    "    else:\n",
    "        print('x is negative and bigger than or equal to -10')\n",
    "else:\n",
    "    print('x equals 0')\n",
    "    "
   ]
  },
  {
   "cell_type": "code",
   "execution_count": null,
   "metadata": {},
   "outputs": [],
   "source": []
  }
 ],
 "metadata": {
  "kernelspec": {
   "display_name": "Python 3",
   "language": "python",
   "name": "python3"
  },
  "language_info": {
   "codemirror_mode": {
    "name": "ipython",
    "version": 3
   },
   "file_extension": ".py",
   "mimetype": "text/x-python",
   "name": "python",
   "nbconvert_exporter": "python",
   "pygments_lexer": "ipython3",
   "version": "3.7.3"
  }
 },
 "nbformat": 4,
 "nbformat_minor": 1
}
