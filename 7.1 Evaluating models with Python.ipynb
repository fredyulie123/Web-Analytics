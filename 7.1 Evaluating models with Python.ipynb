{
 "cells": [
  {
   "cell_type": "markdown",
   "metadata": {},
   "source": [
    "# 1. Starting out\n",
    "\n",
    "We start off as we usually do. Let's import some things that will be useful."
   ]
  },
  {
   "cell_type": "code",
   "execution_count": 1,
   "metadata": {},
   "outputs": [],
   "source": [
    "# Import pandas to read in data\n",
    "import pandas as pd\n",
    "import numpy as np\n",
    "\n",
    "# Import matplotlib for plotting\n",
    "import matplotlib.pylab as plt\n",
    "%matplotlib inline\n",
    "\n",
    "# Import decision trees and logistic regression\n",
    "from sklearn.tree import DecisionTreeClassifier\n",
    "from sklearn.linear_model import LogisticRegression\n",
    "\n",
    "# Import train, test, and evaluation functions\n",
    "from sklearn.metrics import accuracy_score\n",
    "from sklearn.model_selection import train_test_split\n",
    "from sklearn.model_selection import cross_val_score"
   ]
  },
  {
   "cell_type": "markdown",
   "metadata": {},
   "source": [
    "# 2. Data\n",
    "We're going to use a mail response data set from a real direct marketing campaign located in `files/mailing.csv`. \n",
    "\n",
    "You can download the files from [http://bit.ly/mailingData](http://bit.ly/mailingData).\n",
    "\n",
    "\n",
    "Each record represents an individual who was targeted with a direct marketing offer.  The offer was a solicitation to make a charitable donation. \n",
    "\n",
    "The columns (features) are:\n",
    "\n",
    "```\n",
    "Col.  Name      Description\n",
    "----- --------- ----------------------------------------------------------------\n",
    "1     income    household income\n",
    "2     Firstdate data assoc. with the first gift by this individual\n",
    "3     Lastdate  data associated with the most recent gift \n",
    "4     Amount    average amount by this individual over all periods (incl. zeros)\n",
    "5     rfaf2     frequency code\n",
    "6     rfaa2     donation amount code\n",
    "7     pepstrfl  flag indicating a star donator\n",
    "8     glast     amount of last gift\n",
    "9     gavr      amount of average gift\n",
    "10    class     one if they gave in this campaign and zero otherwise.\n",
    "```\n",
    "\n",
    "Our goal is to build a model to predict if people will give during the current campaign (this is the attribute called `\"class\"`)."
   ]
  },
  {
   "cell_type": "markdown",
   "metadata": {},
   "source": [
    "Let's read our data in and put the target variable in `Y` and all the other features in `X`."
   ]
  },
  {
   "cell_type": "code",
   "execution_count": 2,
   "metadata": {},
   "outputs": [],
   "source": [
    "# Read data using pandas\n",
    "data = pd.read_csv(\"mailing.csv\")\n",
    "\n",
    "# Split into X and Y\n",
    "X = data.drop(['class'], 1)\n",
    "Y = data['class']"
   ]
  },
  {
   "cell_type": "code",
   "execution_count": 3,
   "metadata": {},
   "outputs": [
    {
     "data": {
      "text/html": [
       "<div>\n",
       "<style scoped>\n",
       "    .dataframe tbody tr th:only-of-type {\n",
       "        vertical-align: middle;\n",
       "    }\n",
       "\n",
       "    .dataframe tbody tr th {\n",
       "        vertical-align: top;\n",
       "    }\n",
       "\n",
       "    .dataframe thead th {\n",
       "        text-align: right;\n",
       "    }\n",
       "</style>\n",
       "<table border=\"1\" class=\"dataframe\">\n",
       "  <thead>\n",
       "    <tr style=\"text-align: right;\">\n",
       "      <th></th>\n",
       "      <th>Income</th>\n",
       "      <th>Firstdate</th>\n",
       "      <th>Lastdate</th>\n",
       "      <th>Amount</th>\n",
       "      <th>rfaf2</th>\n",
       "      <th>glast</th>\n",
       "      <th>gavr</th>\n",
       "      <th>class</th>\n",
       "      <th>rfaa2_G</th>\n",
       "      <th>rfaa2_E</th>\n",
       "      <th>rfaa2_F</th>\n",
       "      <th>pepstrfl_0</th>\n",
       "    </tr>\n",
       "  </thead>\n",
       "  <tbody>\n",
       "    <tr>\n",
       "      <th>0</th>\n",
       "      <td>3</td>\n",
       "      <td>9409</td>\n",
       "      <td>9509</td>\n",
       "      <td>0.06</td>\n",
       "      <td>1</td>\n",
       "      <td>50</td>\n",
       "      <td>30.00</td>\n",
       "      <td>0</td>\n",
       "      <td>1</td>\n",
       "      <td>0</td>\n",
       "      <td>0</td>\n",
       "      <td>1</td>\n",
       "    </tr>\n",
       "    <tr>\n",
       "      <th>1</th>\n",
       "      <td>2</td>\n",
       "      <td>9201</td>\n",
       "      <td>9602</td>\n",
       "      <td>0.16</td>\n",
       "      <td>4</td>\n",
       "      <td>20</td>\n",
       "      <td>20.55</td>\n",
       "      <td>1</td>\n",
       "      <td>1</td>\n",
       "      <td>0</td>\n",
       "      <td>0</td>\n",
       "      <td>0</td>\n",
       "    </tr>\n",
       "    <tr>\n",
       "      <th>2</th>\n",
       "      <td>0</td>\n",
       "      <td>9510</td>\n",
       "      <td>9603</td>\n",
       "      <td>0.20</td>\n",
       "      <td>4</td>\n",
       "      <td>5</td>\n",
       "      <td>8.75</td>\n",
       "      <td>0</td>\n",
       "      <td>0</td>\n",
       "      <td>1</td>\n",
       "      <td>0</td>\n",
       "      <td>1</td>\n",
       "    </tr>\n",
       "    <tr>\n",
       "      <th>3</th>\n",
       "      <td>6</td>\n",
       "      <td>9409</td>\n",
       "      <td>9603</td>\n",
       "      <td>0.13</td>\n",
       "      <td>2</td>\n",
       "      <td>25</td>\n",
       "      <td>22.50</td>\n",
       "      <td>0</td>\n",
       "      <td>1</td>\n",
       "      <td>0</td>\n",
       "      <td>0</td>\n",
       "      <td>1</td>\n",
       "    </tr>\n",
       "    <tr>\n",
       "      <th>4</th>\n",
       "      <td>0</td>\n",
       "      <td>9310</td>\n",
       "      <td>9511</td>\n",
       "      <td>0.10</td>\n",
       "      <td>1</td>\n",
       "      <td>25</td>\n",
       "      <td>12.50</td>\n",
       "      <td>0</td>\n",
       "      <td>1</td>\n",
       "      <td>0</td>\n",
       "      <td>0</td>\n",
       "      <td>1</td>\n",
       "    </tr>\n",
       "  </tbody>\n",
       "</table>\n",
       "</div>"
      ],
      "text/plain": [
       "   Income  Firstdate  Lastdate  Amount  rfaf2  glast   gavr  class  rfaa2_G  \\\n",
       "0       3       9409      9509    0.06      1     50  30.00      0        1   \n",
       "1       2       9201      9602    0.16      4     20  20.55      1        1   \n",
       "2       0       9510      9603    0.20      4      5   8.75      0        0   \n",
       "3       6       9409      9603    0.13      2     25  22.50      0        1   \n",
       "4       0       9310      9511    0.10      1     25  12.50      0        1   \n",
       "\n",
       "   rfaa2_E  rfaa2_F  pepstrfl_0  \n",
       "0        0        0           1  \n",
       "1        0        0           0  \n",
       "2        1        0           1  \n",
       "3        0        0           1  \n",
       "4        0        0           1  "
      ]
     },
     "execution_count": 3,
     "metadata": {},
     "output_type": "execute_result"
    }
   ],
   "source": [
    "data.head()"
   ]
  },
  {
   "cell_type": "code",
   "execution_count": 4,
   "metadata": {},
   "outputs": [
    {
     "data": {
      "text/html": [
       "<div>\n",
       "<style scoped>\n",
       "    .dataframe tbody tr th:only-of-type {\n",
       "        vertical-align: middle;\n",
       "    }\n",
       "\n",
       "    .dataframe tbody tr th {\n",
       "        vertical-align: top;\n",
       "    }\n",
       "\n",
       "    .dataframe thead th {\n",
       "        text-align: right;\n",
       "    }\n",
       "</style>\n",
       "<table border=\"1\" class=\"dataframe\">\n",
       "  <thead>\n",
       "    <tr style=\"text-align: right;\">\n",
       "      <th></th>\n",
       "      <th>Income</th>\n",
       "      <th>Firstdate</th>\n",
       "      <th>Lastdate</th>\n",
       "      <th>Amount</th>\n",
       "      <th>rfaf2</th>\n",
       "      <th>glast</th>\n",
       "      <th>gavr</th>\n",
       "      <th>rfaa2_G</th>\n",
       "      <th>rfaa2_E</th>\n",
       "      <th>rfaa2_F</th>\n",
       "      <th>pepstrfl_0</th>\n",
       "    </tr>\n",
       "  </thead>\n",
       "  <tbody>\n",
       "    <tr>\n",
       "      <th>0</th>\n",
       "      <td>3</td>\n",
       "      <td>9409</td>\n",
       "      <td>9509</td>\n",
       "      <td>0.06</td>\n",
       "      <td>1</td>\n",
       "      <td>50</td>\n",
       "      <td>30.00</td>\n",
       "      <td>1</td>\n",
       "      <td>0</td>\n",
       "      <td>0</td>\n",
       "      <td>1</td>\n",
       "    </tr>\n",
       "    <tr>\n",
       "      <th>1</th>\n",
       "      <td>2</td>\n",
       "      <td>9201</td>\n",
       "      <td>9602</td>\n",
       "      <td>0.16</td>\n",
       "      <td>4</td>\n",
       "      <td>20</td>\n",
       "      <td>20.55</td>\n",
       "      <td>1</td>\n",
       "      <td>0</td>\n",
       "      <td>0</td>\n",
       "      <td>0</td>\n",
       "    </tr>\n",
       "    <tr>\n",
       "      <th>2</th>\n",
       "      <td>0</td>\n",
       "      <td>9510</td>\n",
       "      <td>9603</td>\n",
       "      <td>0.20</td>\n",
       "      <td>4</td>\n",
       "      <td>5</td>\n",
       "      <td>8.75</td>\n",
       "      <td>0</td>\n",
       "      <td>1</td>\n",
       "      <td>0</td>\n",
       "      <td>1</td>\n",
       "    </tr>\n",
       "    <tr>\n",
       "      <th>3</th>\n",
       "      <td>6</td>\n",
       "      <td>9409</td>\n",
       "      <td>9603</td>\n",
       "      <td>0.13</td>\n",
       "      <td>2</td>\n",
       "      <td>25</td>\n",
       "      <td>22.50</td>\n",
       "      <td>1</td>\n",
       "      <td>0</td>\n",
       "      <td>0</td>\n",
       "      <td>1</td>\n",
       "    </tr>\n",
       "    <tr>\n",
       "      <th>4</th>\n",
       "      <td>0</td>\n",
       "      <td>9310</td>\n",
       "      <td>9511</td>\n",
       "      <td>0.10</td>\n",
       "      <td>1</td>\n",
       "      <td>25</td>\n",
       "      <td>12.50</td>\n",
       "      <td>1</td>\n",
       "      <td>0</td>\n",
       "      <td>0</td>\n",
       "      <td>1</td>\n",
       "    </tr>\n",
       "  </tbody>\n",
       "</table>\n",
       "</div>"
      ],
      "text/plain": [
       "   Income  Firstdate  Lastdate  Amount  rfaf2  glast   gavr  rfaa2_G  rfaa2_E  \\\n",
       "0       3       9409      9509    0.06      1     50  30.00        1        0   \n",
       "1       2       9201      9602    0.16      4     20  20.55        1        0   \n",
       "2       0       9510      9603    0.20      4      5   8.75        0        1   \n",
       "3       6       9409      9603    0.13      2     25  22.50        1        0   \n",
       "4       0       9310      9511    0.10      1     25  12.50        1        0   \n",
       "\n",
       "   rfaa2_F  pepstrfl_0  \n",
       "0        0           1  \n",
       "1        0           0  \n",
       "2        0           1  \n",
       "3        0           1  \n",
       "4        0           1  "
      ]
     },
     "execution_count": 4,
     "metadata": {},
     "output_type": "execute_result"
    }
   ],
   "source": [
    "X.head()"
   ]
  },
  {
   "cell_type": "code",
   "execution_count": 5,
   "metadata": {},
   "outputs": [
    {
     "data": {
      "text/plain": [
       "0    0\n",
       "1    1\n",
       "2    0\n",
       "3    0\n",
       "4    0\n",
       "Name: class, dtype: int64"
      ]
     },
     "execution_count": 5,
     "metadata": {},
     "output_type": "execute_result"
    }
   ],
   "source": [
    "Y.head()"
   ]
  },
  {
   "cell_type": "markdown",
   "metadata": {},
   "source": [
    "# 3. Overfitting\n",
    "\n",
    "Let's first create a classification algorithm called \"decision tree,\" fit a model (learn the model from the data), and use it to get predictions on all of our data."
   ]
  },
  {
   "cell_type": "code",
   "execution_count": 6,
   "metadata": {},
   "outputs": [
    {
     "name": "stdout",
     "output_type": "stream",
     "text": [
      "The accuracy is 0.9956460300658571\n"
     ]
    }
   ],
   "source": [
    "# Create an empty, unlearned tree\n",
    "tree = DecisionTreeClassifier(criterion=\"entropy\")\n",
    "\n",
    "# Fit/train the tree\n",
    "tree.fit(X, Y)\n",
    "\n",
    "# Get a prediction\n",
    "Y_predicted = tree.predict(X)\n",
    "\n",
    "# Get the accuracy of this prediction\n",
    "accuracy = accuracy_score(Y_predicted, Y)\n",
    "\n",
    "# Print the accuracy\n",
    "print(\"The accuracy is \" + str(accuracy))"
   ]
  },
  {
   "cell_type": "markdown",
   "metadata": {},
   "source": [
    "That's a pretty high accuracy. Is it? Let's check the base rate."
   ]
  },
  {
   "cell_type": "code",
   "execution_count": 7,
   "metadata": {},
   "outputs": [
    {
     "data": {
      "text/plain": [
       "0.05066248129357229"
      ]
     },
     "execution_count": 7,
     "metadata": {},
     "output_type": "execute_result"
    }
   ],
   "source": [
    "Y.mean()"
   ]
  },
  {
   "cell_type": "markdown",
   "metadata": {},
   "source": [
    "95% of the people do not donate --> 99.5% accuracy is pretty good (much higher than the base rate of 95%).\n",
    "\n",
    "However, we might be overfitting our data. The model might have \"memorized\" where all the points are. This does not lead to models that will generalize well.\n",
    "\n",
    "We can create training and testing sets very easily. Here we will create train and test sets of `X` and `Y` where we assign 70% of our data to training."
   ]
  },
  {
   "cell_type": "code",
   "execution_count": 8,
   "metadata": {},
   "outputs": [],
   "source": [
    "# Split X and Y into training and test\n",
    "X_train, X_test, Y_train, Y_test = train_test_split(X, Y, train_size=0.70)"
   ]
  },
  {
   "cell_type": "markdown",
   "metadata": {},
   "source": [
    "Now, let's look at the same decision tree but fit it with our training data and test it on our testing data."
   ]
  },
  {
   "cell_type": "code",
   "execution_count": 9,
   "metadata": {},
   "outputs": [
    {
     "name": "stdout",
     "output_type": "stream",
     "text": [
      "The accuracy is 0.9003719539750409\n"
     ]
    }
   ],
   "source": [
    "# Create an empty, unlearned tree\n",
    "tree = DecisionTreeClassifier(criterion=\"entropy\")\n",
    "\n",
    "# Fit/train the tree on the training data\n",
    "tree.fit(X_train, Y_train)\n",
    "\n",
    "# Get a prediction from the tree on the test data\n",
    "Y_test_predicted = tree.predict(X_test)\n",
    "\n",
    "# Get the accuracy of this prediction\n",
    "accuracy = accuracy_score(Y_test_predicted, Y_test)\n",
    "\n",
    "# Print the accuracy\n",
    "print(\"The accuracy is \" + str(accuracy))"
   ]
  },
  {
   "cell_type": "markdown",
   "metadata": {},
   "source": [
    "Let's also use cross validation with 5 folds to see how well our model performs."
   ]
  },
  {
   "cell_type": "code",
   "execution_count": 10,
   "metadata": {},
   "outputs": [],
   "source": [
    "# Create an empty, unlearned tree\n",
    "tree = DecisionTreeClassifier(criterion=\"entropy\")\n",
    "    \n",
    "# This will get us 10-fold cross validation accuracy with our tree and our data\n",
    "# We can do this in one line!\n",
    "cross_fold_accuracies = cross_val_score(tree, X, Y, scoring=\"accuracy\", cv=10)\n",
    "    \n",
    "# Average accuracy\n",
    "average_cross_fold_accuracy = np.mean(cross_fold_accuracies)"
   ]
  },
  {
   "cell_type": "code",
   "execution_count": 11,
   "metadata": {},
   "outputs": [
    {
     "name": "stdout",
     "output_type": "stream",
     "text": [
      "0.9021846811616873\n",
      "0.9004119088586475\n",
      "0.901611137181292\n",
      "0.8989467097716133\n",
      "0.9003024298675566\n",
      "0.9020752946084054\n",
      "0.8985764196693956\n",
      "0.900036502059759\n",
      "0.9033216874380768\n",
      "0.8987328570683631\n"
     ]
    }
   ],
   "source": [
    "for fold in cross_fold_accuracies:\n",
    "    print(fold)"
   ]
  },
  {
   "cell_type": "code",
   "execution_count": 12,
   "metadata": {},
   "outputs": [
    {
     "name": "stdout",
     "output_type": "stream",
     "text": [
      "0.9006199627684797\n"
     ]
    }
   ],
   "source": [
    "print(average_cross_fold_accuracy)"
   ]
  },
  {
   "cell_type": "markdown",
   "metadata": {},
   "source": [
    "That's a pretty big difference! Which accuracy do you \"trust\" more? Why?"
   ]
  },
  {
   "cell_type": "markdown",
   "metadata": {},
   "source": [
    "# 4. Creating a simple learning curve"
   ]
  },
  {
   "cell_type": "code",
   "execution_count": 13,
   "metadata": {
    "scrolled": true
   },
   "outputs": [
    {
     "data": {
      "image/png": "[encoded data removed]",
      "text/plain": [
       "<Figure size 432x288 with 1 Axes>"
      ]
     },
     "metadata": {
      "needs_background": "light"
     },
     "output_type": "display_data"
    }
   ],
   "source": [
    "# Here are some percentages to get you started. Feel free to try more!\n",
    "training_percentages = [0.10, 0.20, 0.30, 0.40, 0.50, 0.60, 0.70, 0.80]\n",
    "accuracies = []\n",
    "\n",
    "for training_percentage in training_percentages:\n",
    "    X_train, X_test, Y_train, Y_test = train_test_split(X, Y, train_size=training_percentage)\n",
    "\n",
    "    # This will create an empty logistic regression\n",
    "    #logistic = LogisticRegression()\n",
    "    tree = DecisionTreeClassifier(criterion=\"entropy\")\n",
    "\n",
    "    \n",
    "    # This will fit/train your logistic regression\n",
    "    #logistic.fit(X_train, Y_train)\n",
    "    tree.fit(X_train, Y_train)\n",
    "\n",
    "    \n",
    "    # This will get predictions\n",
    "    #Y_test_predicted = logistic.predict(X_test)\n",
    "    Y_test_predicted = tree.predict(X_test)\n",
    "\n",
    "    \n",
    "    # With these predictions we can get an accuracy. Where should we store this accuracy?\n",
    "    acc = accuracy_score(Y_test_predicted, Y_test)\n",
    "    accuracies.append(acc)\n",
    "\n",
    "# We want to plot our results. What list should we use for the x-axis? What about the y-axis?\n",
    "plt.plot(training_percentages, accuracies)\n",
    "plt.show()"
   ]
  },
  {
   "cell_type": "markdown",
   "metadata": {},
   "source": [
    "# 5. Creating a simple fitting curve\n"
   ]
  },
  {
   "cell_type": "code",
   "execution_count": 14,
   "metadata": {},
   "outputs": [
    {
     "data": {
      "image/png": "[encoded data removed]",
      "text/plain": [
       "<Figure size 432x288 with 1 Axes>"
      ]
     },
     "metadata": {
      "needs_background": "light"
     },
     "output_type": "display_data"
    }
   ],
   "source": [
    "# Let's fit our training data size to 80%\n",
    "X_train, X_test, Y_train, Y_test = train_test_split(X, Y, train_size=0.80)\n",
    "\n",
    "# Let's try different max depths for a decision tree\n",
    "max_depths = range(1, 100)\n",
    "accuracies = []\n",
    "\n",
    "for max_depth in max_depths:\n",
    "    # This will create an empty decision tree at a specified max depth\n",
    "    tree = DecisionTreeClassifier(criterion=\"entropy\", max_depth=max_depth)\n",
    "    \n",
    "    # This will fit/train your tree\n",
    "    tree.fit(X_train, Y_train)\n",
    "    \n",
    "    # This will get accuracy and keep track of it\n",
    "    Y_test_predicted = tree.predict(X_test)\n",
    "    accuracies.append(accuracy_score(Y_test_predicted, Y_test))\n",
    "\n",
    "# We want to plot our results\n",
    "plt.plot(max_depths, accuracies)\n",
    "plt.ylabel(\"Accuracy\")\n",
    "plt.xlabel(\"Max depth (model complexity)\")\n",
    "plt.show()"
   ]
  },
  {
   "cell_type": "code",
   "execution_count": 15,
   "metadata": {},
   "outputs": [
    {
     "ename": "TypeError",
     "evalue": "__init__() got an unexpected keyword argument 'max_leaf_depth'",
     "output_type": "error",
     "traceback": [
      "\u001b[1;31m---------------------------------------------------------------------------\u001b[0m",
      "\u001b[1;31mTypeError\u001b[0m                                 Traceback (most recent call last)",
      "\u001b[1;32m<ipython-input-15-b4d1e36cab5e>\u001b[0m in \u001b[0;36m<module>\u001b[1;34m\u001b[0m\n\u001b[0;32m      8\u001b[0m \u001b[1;32mfor\u001b[0m \u001b[0mmax_depth\u001b[0m \u001b[1;32min\u001b[0m \u001b[0mmax_depths\u001b[0m\u001b[1;33m:\u001b[0m\u001b[1;33m\u001b[0m\u001b[1;33m\u001b[0m\u001b[0m\n\u001b[0;32m      9\u001b[0m     \u001b[1;31m# This will create an empty decision tree at a specified max depth\u001b[0m\u001b[1;33m\u001b[0m\u001b[1;33m\u001b[0m\u001b[1;33m\u001b[0m\u001b[0m\n\u001b[1;32m---> 10\u001b[1;33m     \u001b[0mtree\u001b[0m \u001b[1;33m=\u001b[0m \u001b[0mDecisionTreeClassifier\u001b[0m\u001b[1;33m(\u001b[0m\u001b[0mcriterion\u001b[0m\u001b[1;33m=\u001b[0m\u001b[1;34m\"entropy\"\u001b[0m\u001b[1;33m,\u001b[0m \u001b[0mmax_leaf_depth\u001b[0m\u001b[1;33m=\u001b[0m\u001b[0mmax_depth\u001b[0m\u001b[1;33m)\u001b[0m\u001b[1;33m\u001b[0m\u001b[1;33m\u001b[0m\u001b[0m\n\u001b[0m\u001b[0;32m     11\u001b[0m \u001b[1;33m\u001b[0m\u001b[0m\n\u001b[0;32m     12\u001b[0m     \u001b[1;31m# This will fit/train your tree\u001b[0m\u001b[1;33m\u001b[0m\u001b[1;33m\u001b[0m\u001b[1;33m\u001b[0m\u001b[0m\n",
      "\u001b[1;31mTypeError\u001b[0m: __init__() got an unexpected keyword argument 'max_leaf_depth'"
     ]
    }
   ],
   "source": [
    "# Let's fit our training data size to 80%\n",
    "X_train, X_test, Y_train, Y_test = train_test_split(X, Y, train_size=0.80)\n",
    "\n",
    "# Let's try different max depths for a decision tree\n",
    "max_depths = range(1, 100)\n",
    "accuracies = []\n",
    "\n",
    "for max_depth in max_depths:\n",
    "    # This will create an empty decision tree at a specified max depth\n",
    "    tree = DecisionTreeClassifier(criterion=\"entropy\", max_leaf_depth=max_depth)\n",
    "    \n",
    "    # This will fit/train your tree\n",
    "    tree.fit(X_train, Y_train)\n",
    "    \n",
    "    # This will get accuracy and keep track of it\n",
    "    Y_test_predicted = tree.predict(X_test)\n",
    "    accuracies.append(accuracy_score(Y_test_predicted, Y_test))\n",
    "\n",
    "# We want to plot our results\n",
    "plt.plot(max_depths, accuracies)\n",
    "plt.ylabel(\"Accuracy\")\n",
    "plt.xlabel(\"Max depth (model complexity)\")\n",
    "plt.show()"
   ]
  },
  {
   "cell_type": "code",
   "execution_count": null,
   "metadata": {},
   "outputs": [],
   "source": []
  }
 ],
 "metadata": {
  "kernelspec": {
   "display_name": "Python 3",
   "language": "python",
   "name": "python3"
  },
  "language_info": {
   "codemirror_mode": {
    "name": "ipython",
    "version": 3
   },
   "file_extension": ".py",
   "mimetype": "text/x-python",
   "name": "python",
   "nbconvert_exporter": "python",
   "pygments_lexer": "ipython3",
   "version": "3.7.3"
  }
 },
 "nbformat": 4,
 "nbformat_minor": 2
}
