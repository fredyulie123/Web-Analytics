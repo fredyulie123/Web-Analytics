{
 "cells": [
  {
   "cell_type": "markdown",
   "metadata": {},
   "source": [
    "# 1. \"For\" loops\n",
    "\n",
    "A for loop in python acts as **an iterator** \n",
    "- An iterator goes into an object, and runs throught all of its items\n",
    "- That object can be a sequence, mutable or immutable. Objects that we've learnt about and we can iterate over include strings, lists, dictionary keys and values.\n",
    "- There are also other objects, called iterables, which we are able to iterate over. We'll learn about such an object today!\n",
    "\n",
    "A general statement for a for loop is the following\n",
    "\n",
    "    for item_name in object:\n",
    "        do something\n",
    "        \n",
    "Some observations are in order.\n",
    "- The variable name (item_name) that you use is up to you and makes no difference.\n",
    "- The variable name can be referenced inside the loop to for example print it or check whether a condition holds.\n",
    "\n",
    "Let's go see some examples!\n",
    "\n",
    "## 1.1 Iterating over a list\n"
   ]
  },
  {
   "cell_type": "code",
   "execution_count": null,
   "metadata": {},
   "outputs": [],
   "source": [
    "my_list=[0,1,2,3,4,5,6,7,8,9,10]\n",
    "\n",
    "#when iterating over a list, for loop will start from index 0, and move one to 1, etc..\n",
    "for item in my_list:\n",
    "    print(item)"
   ]
  },
  {
   "cell_type": "code",
   "execution_count": null,
   "metadata": {},
   "outputs": [],
   "source": [
    "my_list.reverse()\n",
    "for item in my_list:\n",
    "    print(item)"
   ]
  },
  {
   "cell_type": "code",
   "execution_count": null,
   "metadata": {},
   "outputs": [],
   "source": [
    "my_list.reverse()\n",
    "\n",
    "#we can also have conditions inside the loop\n",
    "for item in my_list:\n",
    "    if item>5:\n",
    "        print(item)"
   ]
  },
  {
   "cell_type": "code",
   "execution_count": null,
   "metadata": {},
   "outputs": [],
   "source": [
    "#in another example, we only print even numbers\n",
    "for item in my_list:\n",
    "    if item%2 == 0:\n",
    "        print(item)"
   ]
  },
  {
   "cell_type": "code",
   "execution_count": null,
   "metadata": {},
   "outputs": [],
   "source": [
    "#and we could have also had more statements such as else inside the loop\n",
    "for item in my_list:\n",
    "    if item%2==0:\n",
    "        print(item)\n",
    "    else:\n",
    "        print('Number is not even')"
   ]
  },
  {
   "cell_type": "code",
   "execution_count": null,
   "metadata": {},
   "outputs": [],
   "source": [
    "#another common use for loops is summing over things\n",
    "total = 0\n",
    "for item in my_list:\n",
    "    total += item\n",
    "    print(total)"
   ]
  },
  {
   "cell_type": "markdown",
   "metadata": {},
   "source": [
    "## 1.2 Iterating over a string"
   ]
  },
  {
   "cell_type": "code",
   "execution_count": null,
   "metadata": {},
   "outputs": [],
   "source": [
    "#iterating through a string, for iterates from the first to the last letter\n",
    "#as one would expect!\n",
    "for item in 'Learning Python':\n",
    "    print(item)"
   ]
  },
  {
   "cell_type": "markdown",
   "metadata": {},
   "source": [
    "## 1.3 Iterating over a dictionary"
   ]
  },
  {
   "cell_type": "code",
   "execution_count": null,
   "metadata": {},
   "outputs": [],
   "source": [
    "# when iterating over a dictionary, we iterate over its KEYS\n",
    "my_dict = {'Dog':'Hund', 'Cat':'Katze', 'Mouse':'Maus'}\n",
    "for k in my_dict:\n",
    "    print(k)"
   ]
  },
  {
   "cell_type": "code",
   "execution_count": null,
   "metadata": {},
   "outputs": [],
   "source": [
    "my_dict = {'Dog':'Hund', 'Cat':'Katze', 'Mouse':'Maus'}\n",
    "for k in my_dict:\n",
    "    print(my_dict[k])"
   ]
  },
  {
   "cell_type": "markdown",
   "metadata": {},
   "source": [
    "Note from the above that the order that for prints the keys of the dictionaries appear random. \n",
    "\n",
    "This is because as we said before, there is **no concept of index in dictionaries, as they are not sequences**.\n"
   ]
  },
  {
   "cell_type": "markdown",
   "metadata": {},
   "source": [
    "## 1.4 Loops inside Loops\n",
    "\n",
    "We can - of course - have a loop inside a loop. Here's an example"
   ]
  },
  {
   "cell_type": "code",
   "execution_count": null,
   "metadata": {},
   "outputs": [],
   "source": [
    "list1 = [1,3,5]\n",
    "list2 = [2,4,6]\n",
    "\n",
    "for x in list1:\n",
    "    for y in list2:\n",
    "        print(str(x*y))"
   ]
  },
  {
   "cell_type": "code",
   "execution_count": null,
   "metadata": {},
   "outputs": [],
   "source": [
    "list1 = [1,3,5]\n",
    "list2 = [2,4,6]\n",
    "\n",
    "for x in list1:\n",
    "    if x >= 3:\n",
    "        for y in list2:\n",
    "            print(str(x*y))"
   ]
  },
  {
   "cell_type": "markdown",
   "metadata": {},
   "source": [
    "## 1.5 Break, Continue\n",
    "\n",
    "The break and continue statements are extremely useful to add further functionality to loops.\n",
    "- **break** when the break command is executed, we break out of the current loop\n",
    "- **continue** when the continue command is executed, we skip all of the other code in the current iteration of the current loop\n",
    "\n",
    "Let's see examples."
   ]
  },
  {
   "cell_type": "code",
   "execution_count": 1,
   "metadata": {},
   "outputs": [
    {
     "name": "stdout",
     "output_type": "stream",
     "text": [
      "1\n",
      "3\n",
      "5\n",
      "7\n",
      "9\n"
     ]
    }
   ],
   "source": [
    "my_list = [0,1,2,3,4,5,6,7,8,9,10]\n",
    "for k in my_list:\n",
    "    #when the number is even, we just go to the next iteration\n",
    "    # hence k will not be printed\n",
    "    if k%2==0:\n",
    "        continue\n",
    "    print(k)"
   ]
  },
  {
   "cell_type": "code",
   "execution_count": 2,
   "metadata": {},
   "outputs": [
    {
     "name": "stdout",
     "output_type": "stream",
     "text": [
      "0\n",
      "1\n",
      "2\n",
      "3\n",
      "4\n",
      "5\n"
     ]
    }
   ],
   "source": [
    "my_list = [0,1,2,3,4,5,6,7,8,9,10]\n",
    "for k in my_list:\n",
    "    #when k==6 we escape the loop\n",
    "    if k==6:\n",
    "        break\n",
    "    print(k)"
   ]
  },
  {
   "cell_type": "markdown",
   "metadata": {},
   "source": [
    "## 1.6 range\n",
    "\n",
    "The range function is one of the most useful built-in methods, and shines in the context of loops.\n",
    "\n",
    "In Python 3, range is a generator of numbers.\n",
    "- range(x,y) generates all integers from x to y-1"
   ]
  },
  {
   "cell_type": "code",
   "execution_count": null,
   "metadata": {},
   "outputs": [],
   "source": [
    "range(0,10)"
   ]
  },
  {
   "cell_type": "markdown",
   "metadata": {},
   "source": [
    "Again, this is just a generator. Let's see its use in the context of for loops."
   ]
  },
  {
   "cell_type": "code",
   "execution_count": null,
   "metadata": {},
   "outputs": [],
   "source": [
    "for k in range(0,10):\n",
    "    print(k)"
   ]
  },
  {
   "cell_type": "code",
   "execution_count": null,
   "metadata": {},
   "outputs": [],
   "source": [
    "my_list = [0,100,12,3,14,5]\n",
    "for k in range(0,len(my_list)):\n",
    "    print(my_list[k])"
   ]
  },
  {
   "cell_type": "markdown",
   "metadata": {},
   "source": [
    "## 1.7 \"While\" loops\n",
    "\n",
    "While loops are pretty similar to for loops, but they just iterate until a condition is met.\n",
    "\n",
    "For example"
   ]
  },
  {
   "cell_type": "code",
   "execution_count": null,
   "metadata": {},
   "outputs": [],
   "source": [
    "count = 0\n",
    "while count < 5:\n",
    "    print(count)\n",
    "    count += 1  # This is the same as count = count + 1"
   ]
  },
  {
   "cell_type": "markdown",
   "metadata": {},
   "source": [
    "Pretty easy, huh? :) \n",
    "\n",
    "\n",
    "\n",
    "\n",
    "\n",
    "\n",
    "\n",
    "\n",
    "\n",
    "\n",
    "\n"
   ]
  },
  {
   "cell_type": "markdown",
   "metadata": {},
   "source": [
    "\n",
    "\n",
    "\n",
    "\n",
    "\n",
    "\n",
    "\n",
    "\n",
    "\n",
    "\n",
    "# 2. Files\n",
    "\n",
    "The computer I was using when writing this has more than 271,925 files stored in its disk. \n",
    "\n",
    "Installing Python 3 added more than 3,00 files to that total. Your computer is, metaphorically speaking, drowning in files. Files are the prime storage device of every operating system, and are actually a paradigm so well-established and ingrained in our thinking that we would have a hard time imagining any alternative.\n",
    "\n",
    "Files can be of many formats: audio, video, programs with obscure formats, excels, powerpoints, xsl, etc. You probably need to install certain modules/libraries to interact with most of the file types. Our focus for today will be the simple but powerful text files. So let's get cracking.\n",
    "\n",
    "## 2.1 Simple Unix\n",
    "\n",
    "Before we open our first file, let's look at some useful commands.\n",
    "\n",
    "The *pwd* command will Print your Working Directory, that is the directory your python is curently working in."
   ]
  },
  {
   "cell_type": "code",
   "execution_count": 1,
   "metadata": {},
   "outputs": [
    {
     "data": {
      "text/plain": [
       "'C:\\\\Users\\\\Yifeng He\\\\Desktop\\\\1st graduate semester\\\\Web Analytics\\\\section 3'"
      ]
     },
     "execution_count": 1,
     "metadata": {},
     "output_type": "execute_result"
    }
   ],
   "source": [
    "pwd"
   ]
  },
  {
   "cell_type": "markdown",
   "metadata": {},
   "source": [
    "The *ls* command gives you a LiSt of the files and folders in your current directory."
   ]
  },
  {
   "cell_type": "code",
   "execution_count": 2,
   "metadata": {},
   "outputs": [
    {
     "name": "stdout",
     "output_type": "stream",
     "text": [
      " Volume in drive C is Local Disk\n",
      " Volume Serial Number is 0A18-A088\n",
      "\n",
      " Directory of C:\\Users\\Yifeng He\\Desktop\\1st graduate semester\\Web Analytics\\section 3\n",
      "\n",
      "09/21/2019  08:36 PM    <DIR>          .\n",
      "09/21/2019  08:36 PM    <DIR>          ..\n",
      "09/20/2019  11:14 PM    <DIR>          .ipynb_checkpoints\n",
      "09/20/2019  11:09 PM            26,290 3.1 Loops, files, and working with data.ipynb\n",
      "09/20/2019  11:00 PM             5,795 3.2 Practice problems.ipynb\n",
      "09/20/2019  10:59 PM             7,969 3.3 Practice problems (solutions).ipynb\n",
      "09/21/2019  08:36 PM                72 simple_file.txt\n",
      "               4 File(s)         40,126 bytes\n",
      "               3 Dir(s)  36,535,914,496 bytes free\n"
     ]
    }
   ],
   "source": [
    "ls"
   ]
  },
  {
   "cell_type": "markdown",
   "metadata": {},
   "source": [
    "The **cd pathname** will Change your Directory to the folder pathname.\n",
    "\n",
    "- . refers to the current folder\n",
    "- .. refers to the previous folder\n",
    "- ~ refers to the user folder\n",
    "\n",
    "The **cd ..** command will move you back to the previous folder. "
   ]
  },
  {
   "cell_type": "code",
   "execution_count": null,
   "metadata": {},
   "outputs": [],
   "source": [
    "cd files/"
   ]
  },
  {
   "cell_type": "code",
   "execution_count": null,
   "metadata": {},
   "outputs": [],
   "source": [
    "ls"
   ]
  },
  {
   "cell_type": "code",
   "execution_count": null,
   "metadata": {},
   "outputs": [],
   "source": [
    "cd .."
   ]
  },
  {
   "cell_type": "code",
   "execution_count": null,
   "metadata": {},
   "outputs": [],
   "source": [
    "ls"
   ]
  },
  {
   "cell_type": "markdown",
   "metadata": {},
   "source": [
    "You now know the basics of how to navigate through your file system using the command line! \n",
    "- that means that you do not necessarily need a mouse/trackpad\n",
    "- people used to only be able to navigate through the file system of their OS using the command line\n",
    "- there are still people only using the command line! They are not leftovers of an obsolete past, it can actually be faster (after you get through the learning curve)."
   ]
  },
  {
   "cell_type": "markdown",
   "metadata": {},
   "source": [
    "## 2.2 Opening and Reading a file\n",
    "\n",
    "Let's now start working with files.\n",
    "\n",
    "- First, go to http://bit.ly/aVerySimpleFile and download 'simple_file.txt'\n",
    "- After you download it put it on your working directory\n"
   ]
  },
  {
   "cell_type": "code",
   "execution_count": 8,
   "metadata": {},
   "outputs": [
    {
     "ename": "FileNotFoundError",
     "evalue": "[Errno 2] No such file or directory: './files/simple_file.txt'",
     "output_type": "error",
     "traceback": [
      "\u001b[1;31m---------------------------------------------------------------------------\u001b[0m",
      "\u001b[1;31mFileNotFoundError\u001b[0m                         Traceback (most recent call last)",
      "\u001b[1;32m<ipython-input-8-42f747a1b2e3>\u001b[0m in \u001b[0;36m<module>\u001b[1;34m\u001b[0m\n\u001b[0;32m      1\u001b[0m \u001b[1;31m#open the file\u001b[0m\u001b[1;33m\u001b[0m\u001b[1;33m\u001b[0m\u001b[1;33m\u001b[0m\u001b[0m\n\u001b[1;32m----> 2\u001b[1;33m \u001b[0mmy_file\u001b[0m \u001b[1;33m=\u001b[0m \u001b[0mopen\u001b[0m\u001b[1;33m(\u001b[0m\u001b[1;34m'./files/simple_file.txt'\u001b[0m\u001b[1;33m,\u001b[0m \u001b[0mmode\u001b[0m\u001b[1;33m=\u001b[0m\u001b[1;34m'r'\u001b[0m\u001b[1;33m,\u001b[0m \u001b[0mencoding\u001b[0m\u001b[1;33m=\u001b[0m\u001b[1;34m'utf-8'\u001b[0m\u001b[1;33m)\u001b[0m\u001b[1;33m\u001b[0m\u001b[1;33m\u001b[0m\u001b[0m\n\u001b[0m",
      "\u001b[1;31mFileNotFoundError\u001b[0m: [Errno 2] No such file or directory: './files/simple_file.txt'"
     ]
    }
   ],
   "source": [
    "#open the file\n",
    "my_file = open('./files/simple_file.txt', mode='r', encoding='utf-8')"
   ]
  },
  {
   "cell_type": "markdown",
   "metadata": {},
   "source": [
    "A couple of notes are in order:\n",
    "- the first argument of the open method is the file's path (culminating in the file's name). So far so good.\n",
    "- the second argument tells python why we are opening the file. We open it to read its contents, therefore we are using the 'r' mode.\n",
    "- to read a file we have to know how its contents were encoded. Most of the time the encoding type is 'utf-8', and the third argument containts this information"
   ]
  },
  {
   "cell_type": "code",
   "execution_count": null,
   "metadata": {},
   "outputs": [],
   "source": [
    "#we can now read the contents of the file\n",
    "#the contents of a file are just a simple string!\n",
    "my_file.read()"
   ]
  },
  {
   "cell_type": "code",
   "execution_count": null,
   "metadata": {},
   "outputs": [],
   "source": [
    "#what if we try to read the file again?\n",
    "my_file.read()"
   ]
  },
  {
   "cell_type": "markdown",
   "metadata": {},
   "source": [
    "When we tried to re-read the file, nothing happened. This is because the imaginary \"cursor\" pointed at the end of the file after reading it, so there was nothing to be read. If we want to read the file again, we have to put the cursor back to position 0."
   ]
  },
  {
   "cell_type": "code",
   "execution_count": null,
   "metadata": {},
   "outputs": [],
   "source": [
    "#Seek to the start of file (index 0)\n",
    "my_file.seek(0)"
   ]
  },
  {
   "cell_type": "code",
   "execution_count": null,
   "metadata": {},
   "outputs": [],
   "source": [
    "my_file.read()"
   ]
  },
  {
   "cell_type": "code",
   "execution_count": null,
   "metadata": {},
   "outputs": [],
   "source": [
    "#If you put the cursor at position 5, you ignore the first five characters!\n",
    "my_file.seek(5)"
   ]
  },
  {
   "cell_type": "code",
   "execution_count": null,
   "metadata": {},
   "outputs": [],
   "source": [
    "my_file.read()"
   ]
  },
  {
   "cell_type": "code",
   "execution_count": null,
   "metadata": {},
   "outputs": [],
   "source": [
    "#to close a file you've oppened, simply:\n",
    "my_file.close()"
   ]
  },
  {
   "cell_type": "code",
   "execution_count": null,
   "metadata": {},
   "outputs": [],
   "source": [
    "# let's go from the beggining, and assign the file string to a variable\n",
    "my_file = open('files/simple_file.txt', mode='r', encoding='utf-8')\n",
    "contents= my_file.read()\n",
    "contents"
   ]
  },
  {
   "cell_type": "code",
   "execution_count": null,
   "metadata": {},
   "outputs": [],
   "source": [
    "#if we want to have each line of the file in a separate location, \n",
    "#we can just use the split('\\n') method to split in every newline character\n",
    "lines = contents.split('\\n')\n",
    "lines"
   ]
  },
  {
   "cell_type": "code",
   "execution_count": null,
   "metadata": {},
   "outputs": [],
   "source": [
    "#Python also has a method for that called readlines()\n",
    "my_file = open('files/simple_file.txt', mode='r', encoding='utf-8')\n",
    "lines = my_file.readlines()\n",
    "lines\n",
    "#always close after you've opened\n",
    "my_file.close()"
   ]
  },
  {
   "cell_type": "markdown",
   "metadata": {},
   "source": [
    "## 2.3 Writing to a file\n",
    "\n",
    "We now want to add a line to the file. Let's say we want to add a line saying 'files are interesting'. \n",
    "\n",
    "We will see how we are going to do that."
   ]
  },
  {
   "cell_type": "code",
   "execution_count": null,
   "metadata": {},
   "outputs": [],
   "source": [
    "#open the file, read it, then close it\n",
    "my_file = open('files/simple_file.txt', mode='r', encoding='utf-8')\n",
    "file_contents = my_file.read()\n",
    "my_file.close()\n",
    "\n",
    "# paste your new content in the end of the string\n",
    "# since we want our new content to be a new line, \n",
    "# our content should start with the new line character \\n\n",
    "file_contents = file_contents+'\\nfiles are interesting'\n",
    "file_contents"
   ]
  },
  {
   "cell_type": "code",
   "execution_count": null,
   "metadata": {},
   "outputs": [],
   "source": [
    "# we now open a new file with mode 'w', to write on it.\n",
    "# opening a file that does not exist   with mode = 'w' will CREATE a new file\n",
    "# opening a file that exists           with mode = 'w' will OVERWRITE the old file\n",
    "#writing on a file erases its previous content - but luckily for us we stored it in the variable 'file_contents'\n",
    "my_file = open('files/new_simple_file.txt', mode='w', encoding='utf-8')\n",
    "my_file.write(file_contents)\n",
    "my_file.close()"
   ]
  },
  {
   "cell_type": "code",
   "execution_count": null,
   "metadata": {},
   "outputs": [],
   "source": [
    "#lets see what the file now containts\n",
    "my_file = open('files/new_simple_file.txt', mode='r', encoding='utf-8')\n",
    "file_contents = my_file.read()\n",
    "my_file.close()\n",
    "file_contents"
   ]
  },
  {
   "cell_type": "code",
   "execution_count": null,
   "metadata": {},
   "outputs": [],
   "source": [
    "#alternatively, using the readlines method\n",
    "my_file = open('files/simple_file.txt', mode='r', encoding='utf-8')\n",
    "lines = my_file.readlines()\n",
    "my_file.close()\n",
    "lines"
   ]
  },
  {
   "cell_type": "markdown",
   "metadata": {},
   "source": [
    "## 2.4 Reading data one line at a time\n",
    "\n",
    "Python offers a convenient way to read files one line at a time.\n",
    "\n",
    "This is done through the **for** loop, which we will dive deeper into in a bit. But as a first interaction, let's see an example"
   ]
  },
  {
   "cell_type": "code",
   "execution_count": null,
   "metadata": {},
   "outputs": [],
   "source": [
    "for line in open('files/simple_file.txt', mode='r', encoding='utf-8'):\n",
    "    print(line)"
   ]
  },
  {
   "cell_type": "markdown",
   "metadata": {},
   "source": [
    "Let's break down what we did above. \n",
    "\n",
    "We said that for every line in this text file, go ahead and print that line. Its important to note a few things:\n",
    "\n",
    "    1.) We could have called the 'line' object anything (see example below).\n",
    "    2.) By not calling .read() on the file, the whole text file was not stored in memory.\n",
    "\n",
    "Now let's see an example of (1)"
   ]
  },
  {
   "cell_type": "markdown",
   "metadata": {},
   "source": [
    "## 2.5 Closing Files Automatically\n",
    "\n",
    "A very useful idiom for opening/closing files automatically in python is the **with ... as** statement. Let's see an example."
   ]
  },
  {
   "cell_type": "code",
   "execution_count": null,
   "metadata": {},
   "outputs": [],
   "source": [
    "with open('files/simple_file.txt', mode='r', encoding='utf-8') as file:\n",
    "    for line in file:\n",
    "        print(line)"
   ]
  },
  {
   "cell_type": "markdown",
   "metadata": {},
   "source": [
    "The with statement creates an code block and the for statement create another code block. That is why print is indented twice (it belongs to the code block inside a code block).\n",
    "\n",
    "- The with statement makes sure that our file will be closed without actually calling the close() command.\n",
    "- The file will be closed even if the program crashes while we read the file.\n",
    "- It is a (extremely) good practice to read our files using the with statement!"
   ]
  },
  {
   "cell_type": "markdown",
   "metadata": {},
   "source": [
    "# 3. Data Analysis - Amazon reviews\n",
    "\n",
    "Now that we have gone over our Python basics, we are fully equipped to perform our first dataset analysis.\n",
    "\n",
    "Our dataset is contained in the file *amazon_reviews.txt* (you can download it through http://bit.ly/someAmazonReviews\n",
    "\n",
    "Each line contains tab-separated ('\\t' character used as separator)information about a review.\n",
    "\n",
    "In each review (and therefore in each line), we have the following information\n",
    "1. ID of the product reviewed\n",
    "2. ID of the reviewer\n",
    "3. rating\n",
    "4. space separated helpful/not helpful votes\n",
    "5. summary of the review\n",
    "6. review text\n",
    "\n",
    "## 3.1 Opening and making data workable\n",
    "\n",
    "Let's begin by opening the file and puting its contents in a list."
   ]
  },
  {
   "cell_type": "code",
   "execution_count": 10,
   "metadata": {},
   "outputs": [],
   "source": [
    "with open('amazon_reviews.txt', mode='r', encoding='utf-8') as f:\n",
    "    reviews = f.read()"
   ]
  },
  {
   "cell_type": "code",
   "execution_count": 11,
   "metadata": {},
   "outputs": [
    {
     "data": {
      "text/plain": [
       "50000"
      ]
     },
     "execution_count": 11,
     "metadata": {},
     "output_type": "execute_result"
    }
   ],
   "source": [
    "#reviews is now a string containing the whole file.\n",
    "#to have every review separately, we will use a list and split the contents at every new line\n",
    "reviews = reviews.split('\\n')\n",
    "#alright, let's check how many reviews we have\n",
    "len(reviews)"
   ]
  },
  {
   "cell_type": "code",
   "execution_count": 12,
   "metadata": {},
   "outputs": [
    {
     "data": {
      "text/plain": [
       "\"B00000DMAT\\tAS210VKE6OUJK\\t4.0\\t1 3\\tIt was great in it's time, but...\\tGreat game, but Perfect Dark is WAY better. If you really like Bond or you can find this game cheap somewhere you might want to pick it up, but if you're just looking for a good first person shooter or multiplayer game skip it and get Perfect Dark instead.\""
      ]
     },
     "execution_count": 12,
     "metadata": {},
     "output_type": "execute_result"
    }
   ],
   "source": [
    "#also, let's check whether everything appears to be right grabbing a couple of the reviews\n",
    "reviews[500]"
   ]
  },
  {
   "cell_type": "markdown",
   "metadata": {},
   "source": [
    "Everything seems to be fine, but every entry is still tab separated. \n",
    "\n",
    "Let's fix that (and make it easier to work with) by splitting every entry at the tab ('\\t') character, and reassigning the resulting list."
   ]
  },
  {
   "cell_type": "code",
   "execution_count": 13,
   "metadata": {},
   "outputs": [],
   "source": [
    "for i in range(0,len(reviews)):\n",
    "    reviews[i] = reviews[i].split('\\t')"
   ]
  },
  {
   "cell_type": "code",
   "execution_count": 14,
   "metadata": {},
   "outputs": [
    {
     "data": {
      "text/plain": [
       "['B00000DMAT',\n",
       " 'AS210VKE6OUJK',\n",
       " '4.0',\n",
       " '1 3',\n",
       " \"It was great in it's time, but...\",\n",
       " \"Great game, but Perfect Dark is WAY better. If you really like Bond or you can find this game cheap somewhere you might want to pick it up, but if you're just looking for a good first person shooter or multiplayer game skip it and get Perfect Dark instead.\"]"
      ]
     },
     "execution_count": 14,
     "metadata": {},
     "output_type": "execute_result"
    }
   ],
   "source": [
    "reviews[500]"
   ]
  },
  {
   "cell_type": "code",
   "execution_count": 15,
   "metadata": {},
   "outputs": [
    {
     "data": {
      "text/plain": [
       "['B000006OVJ',\n",
       " 'AVGEP46YTOH9Q',\n",
       " '5.0',\n",
       " '0 0',\n",
       " 'Good Game',\n",
       " 'This game was very good. The first 3D megaman game to be released.']"
      ]
     },
     "execution_count": 15,
     "metadata": {},
     "output_type": "execute_result"
    }
   ],
   "source": [
    "reviews[150]"
   ]
  },
  {
   "cell_type": "markdown",
   "metadata": {},
   "source": [
    "## 3.2 How many different Products in our data set?\n",
    "\n",
    "Since every product has a unique id (entry1) we just have to find the number of distinct entries. We will use *sets* and a simple for loop to find them."
   ]
  },
  {
   "cell_type": "code",
   "execution_count": 16,
   "metadata": {},
   "outputs": [
    {
     "name": "stdout",
     "output_type": "stream",
     "text": [
      "2819\n"
     ]
    }
   ],
   "source": [
    "products = set()\n",
    "for i in range(0,len(reviews)):\n",
    "    products.add(reviews[i][0])\n",
    "print(len(products))"
   ]
  },
  {
   "cell_type": "markdown",
   "metadata": {},
   "source": [
    "## 3.3 How many different reviewers in our data set?\n",
    "\n",
    "We should just use the very same idea, but instead gather the distinct reviewers (entry 2). \n",
    "\n",
    "We will find out that the reviewers are around three times as many as the video games."
   ]
  },
  {
   "cell_type": "code",
   "execution_count": 17,
   "metadata": {},
   "outputs": [
    {
     "name": "stdout",
     "output_type": "stream",
     "text": [
      "9779\n"
     ]
    }
   ],
   "source": [
    "reviewers = set()\n",
    "for i in range(0,len(reviews)):\n",
    "    reviewers.add(reviews[i][1])\n",
    "print(len(reviewers))"
   ]
  },
  {
   "cell_type": "markdown",
   "metadata": {},
   "source": [
    "## 3.4 Who are the top 50 most prolific reviewers?\n",
    "\n",
    "To answer that question, we will have to find how many reviews each reviewer has written. \n",
    "\n",
    "Dictionaries are perfectly suited for this endeavor, since we can have keys to be the reviwer ids, and values to be the number of reviews."
   ]
  },
  {
   "cell_type": "code",
   "execution_count": 21,
   "metadata": {},
   "outputs": [],
   "source": [
    "num_reviews = dict()\n",
    "for i in range(0,len(reviews)):\n",
    "    if reviews[i][1] in num_reviews:\n",
    "        num_reviews[reviews[i][1]]+=1\n",
    "    else:\n",
    "        num_reviews[reviews[i][1]]=1\n"
   ]
  },
  {
   "cell_type": "markdown",
   "metadata": {},
   "source": [
    "Alright, we now have each reviewer's id and the number of reviews they have written, but we want to find out the top 50. We can think of many ways to do it, and we will follow a specific one here. Let's put everything into a list of lists!"
   ]
  },
  {
   "cell_type": "code",
   "execution_count": 23,
   "metadata": {},
   "outputs": [
    {
     "data": {
      "text/plain": [
       "[[2, 'A2HD75EMZR8QLN'],\n",
       " [2, 'A3UR8NLLY1ZHCX'],\n",
       " [1, 'A1INA0F5CWW3J4'],\n",
       " [1, 'A1DLMTOTHQ4AST'],\n",
       " [1, 'A361M14PU2GUEG'],\n",
       " [1, 'A2UTRVO4FDCBH6'],\n",
       " [1, 'AN3YYDZAS3O1Y'],\n",
       " [1, 'AQTC623NCESZW'],\n",
       " [7, 'A1QJJU33VNC4S7'],\n",
       " [2, 'A2JLT2WY0F2HVI']]"
      ]
     },
     "execution_count": 23,
     "metadata": {},
     "output_type": "execute_result"
    }
   ],
   "source": [
    "sorted_reviews = []\n",
    "for k in num_reviews:\n",
    "    sorted_reviews.append([num_reviews[k],k])\n",
    "sorted_reviews[:10]"
   ]
  },
  {
   "cell_type": "code",
   "execution_count": 24,
   "metadata": {},
   "outputs": [
    {
     "data": {
      "text/plain": [
       "[[290, 'A3V6Z4RCDGRC44'],\n",
       " [168, 'AQMWZIH22R6LE'],\n",
       " [161, 'AJKWF4W7QD4NS'],\n",
       " [148, 'A3PASG15BRR40D'],\n",
       " [145, 'A2582KMXLK2P06'],\n",
       " [132, 'A2GBBDNZLYC4A9'],\n",
       " [121, 'A2TCG2HV1VJP6V'],\n",
       " [115, 'A29BQ6B90Y1R5F'],\n",
       " [100, 'A3GKMQFL05Z79K'],\n",
       " [100, 'A36UKFV79879MD'],\n",
       " [95, 'A3J8ABVGK7ZL6H'],\n",
       " [87, 'A1LBAC84TLIGAX'],\n",
       " [83, 'A169I83JL8QJGN'],\n",
       " [83, 'AQI2CW6UKF1ES'],\n",
       " [79, 'A2QQHIY23PL7H3'],\n",
       " [78, 'A3IBXED14SKZ8Y'],\n",
       " [77, 'A1PCQHQ6NPGL9F'],\n",
       " [75, 'APS7IH14C8AZ9'],\n",
       " [74, 'A370Z6I5GBWU44'],\n",
       " [74, 'AWG2O9C42XW5G'],\n",
       " [72, 'A2J57EQ9KPGXR9'],\n",
       " [72, 'A319SKSB556033'],\n",
       " [72, 'A138826JMC0J3T'],\n",
       " [72, 'A160AB64G2E949'],\n",
       " [69, 'A38AXXL7DMVFMQ'],\n",
       " [67, 'AWFDFLR1DA23A'],\n",
       " [66, 'A3W4D8XOGLWUN5'],\n",
       " [65, 'ADQFXW709ISZ1'],\n",
       " [65, 'AVE2J7PNE0L9C'],\n",
       " [65, 'A1AISPOIIHTHXX'],\n",
       " [64, 'A8NHN9UPML858'],\n",
       " [64, 'AD7IBJCYSJ9EE'],\n",
       " [64, 'A37HCSGGRH8UO6'],\n",
       " [64, 'AD0J5KK4WQXNS'],\n",
       " [64, 'A1JHJ48J9EZNMH'],\n",
       " [60, 'A349MGZV85SZPH'],\n",
       " [60, 'A2LP3RWE75ZA4O'],\n",
       " [60, 'A2QHS1ZCIQOL7E'],\n",
       " [58, 'A1R602SXNGOMJ4'],\n",
       " [57, 'A3NN4RTUN0LHBN'],\n",
       " [57, 'ANAYSRE3LX8GZ'],\n",
       " [56, 'A2TJKFSZOMSVLX'],\n",
       " [56, 'A2YAABMT80RLYA'],\n",
       " [55, 'A5JLAU2ARJ0BO'],\n",
       " [55, 'A20DZX38KRBIT8'],\n",
       " [53, 'A3QJZCBZ1D7XL9'],\n",
       " [53, 'A1YEPFLLH42OU1'],\n",
       " [53, 'APP45XD85ARYL'],\n",
       " [53, 'A1VQ8W253371UR'],\n",
       " [52, 'A2TUCS8O6AJXKJ']]"
      ]
     },
     "execution_count": 24,
     "metadata": {},
     "output_type": "execute_result"
    }
   ],
   "source": [
    "sorted_reviews.sort(key=lambda x: x[0])\n",
    "sorted_reviews.reverse()\n",
    "sorted_reviews[:50]\n"
   ]
  },
  {
   "cell_type": "markdown",
   "metadata": {},
   "source": [
    "## 3.5 Finding the ratings distribution\n",
    "\n",
    "We may also find the ratings distribution - how many instances of each rating are present in our data set.\n",
    "\n",
    "The idea here is similar to what we did before, and we will use a dictionary."
   ]
  },
  {
   "cell_type": "code",
   "execution_count": 22,
   "metadata": {},
   "outputs": [],
   "source": [
    "ratings = dict()\n",
    "for i in range(0,len(reviews)):\n",
    "    if reviews[i][2] in ratings:\n",
    "        ratings[reviews[i][2]] +=1\n",
    "    else:\n",
    "        ratings[reviews[i][2]] =1     "
   ]
  },
  {
   "cell_type": "code",
   "execution_count": 23,
   "metadata": {},
   "outputs": [
    {
     "data": {
      "text/plain": [
       "{'0': 49913, '5': 7, '9': 6, '7': 10, '2': 22, '6': 13, '8': 29}"
      ]
     },
     "execution_count": 23,
     "metadata": {},
     "output_type": "execute_result"
    }
   ],
   "source": [
    "ratings"
   ]
  },
  {
   "cell_type": "markdown",
   "metadata": {},
   "source": [
    "## 3.6 Plotting the distribution.\n",
    "We can also use python to make plots! Here's a very not-fancy one. \n",
    "\n",
    "If you want to make it fancier you can google how matplotlib works in python!"
   ]
  },
  {
   "cell_type": "code",
   "execution_count": null,
   "metadata": {},
   "outputs": [],
   "source": [
    "import matplotlib.pyplot as plt\n",
    "\n",
    "# the next line tells jupyter to display the picture inline---in the notebook\n",
    "%matplotlib inline  \n",
    "\n",
    "x = [1,2,3,4,5]\n",
    "y = [2599,2894, 5918, 12533, 26056]\n",
    "plt.plot(x,y)\n",
    "\n",
    "# uncomment if you want to save your figure!\n",
    "#plt.savefig(\"files/a_figure.png\",dpi=72)"
   ]
  }
 ],
 "metadata": {
  "kernelspec": {
   "display_name": "Python 3",
   "language": "python",
   "name": "python3"
  },
  "language_info": {
   "codemirror_mode": {
    "name": "ipython",
    "version": 3
   },
   "file_extension": ".py",
   "mimetype": "text/x-python",
   "name": "python",
   "nbconvert_exporter": "python",
   "pygments_lexer": "ipython3",
   "version": "3.7.3"
  }
 },
 "nbformat": 4,
 "nbformat_minor": 1
}
